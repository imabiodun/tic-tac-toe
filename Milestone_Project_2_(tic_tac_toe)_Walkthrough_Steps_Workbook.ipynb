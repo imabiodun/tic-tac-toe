{
 "cells": [
  {
   "cell_type": "markdown",
   "metadata": {
    "id": "fiXG_krxe8XI"
   },
   "source": [
    "___\n",
    "\n",
    "<a href='https://www.udemy.com/user/joseportilla/'><img src='https://github.com/imabiodun/tic-tac-toe/blob/Pierian_Data_Logo.png?raw=1'/></a>\n",
    "___\n",
    "<center><em>Content Copyright by Pierian Data</em></center>"
   ]
  },
  {
   "cell_type": "markdown",
   "metadata": {
    "id": "pCsgUjPGe8XS"
   },
   "source": [
    "# Milestone Project 1: Walkthrough Steps Workbook\n",
    "\n",
    "Below is a set of steps for you to follow to try to create the Tic Tac Toe Milestone Project game!"
   ]
  },
  {
   "cell_type": "markdown",
   "metadata": {
    "id": "csVJhgoQe8XU"
   },
   "source": [
    "**Step 1: Write a function that can print out a board. Set up your board as a list, where each index 1-9 corresponds with a number on a number pad, so you get a 3 by 3 board representation.**"
   ]
  },
  {
   "cell_type": "code",
   "execution_count": 1,
   "metadata": {
    "ExecuteTime": {
     "end_time": "2023-12-07T15:21:27.726238Z",
     "start_time": "2023-12-07T15:21:27.712237Z"
    },
    "code_folding": []
   },
   "outputs": [],
   "source": [
    "# import necessary libraries\n",
    "from IPython.display import clear_output  # clears all print output\n",
    "import time  # time module\n",
    "import re  # regular expression\n",
    "import itertools  # for iterations"
   ]
  },
  {
   "cell_type": "code",
   "execution_count": 2,
   "metadata": {
    "ExecuteTime": {
     "end_time": "2023-12-07T15:21:28.328313Z",
     "start_time": "2023-12-07T15:21:27.766245Z"
    },
    "id": "rG2b_kfme8XV"
   },
   "outputs": [],
   "source": [
    "def display_board(board):\n",
    "    clear_output()\n",
    "    '''\n",
    "    Creates a frame of 3x3 table for tic-tac-toe\n",
    "    '''\n",
    "\n",
    "    print('\\t\\t\\t\\t' + '****' * 12)\n",
    "    print('\\t\\t\\t\\t\\t\\tTIC-TAC-TOE GAME')\n",
    "    print('\\t\\t\\t\\t' + '****' * 12)\n",
    "    print('')\n",
    "    print(f'\\t\\t\\t\\t\\t\\t|\\t\\t|\\t')\n",
    "    print(f\"\\t\\t\\t\\t\\t{board[1]}\\t|\\t{board[2]}\\t|\\t{board[3]}\")\n",
    "    print(f\"\\t\\t\\t\\t\\t\" + ('---') * 12)\n",
    "    print(f'\\t\\t\\t\\t\\t\\t|\\t\\t|\\t')\n",
    "    print(f\"\\t\\t\\t\\t\\t{board[4]}\\t|\\t{board[5]}\\t|\\t{board[6]}\")\n",
    "    print(f'\\t\\t\\t\\t\\t\\t|\\t\\t|\\t')\n",
    "    print(f\"\\t\\t\\t\\t\\t\" + ('---') * 12)\n",
    "    print(f\"\\t\\t\\t\\t\\t{board[7]}\\t|\\t{board[8]}\\t|\\t{board[9]}\")\n",
    "    print(f'\\t\\t\\t\\t\\t\\t|\\t\\t|\\t')\n",
    "    print('')\n",
    "    print('\\t\\t\\t\\t' + '****' * 12)"
   ]
  },
  {
   "cell_type": "markdown",
   "metadata": {
    "id": "3Zq_uq2We8XY"
   },
   "source": [
    "**TEST Step 1:** run your function on a test version of the board list, and make adjustments as necessary"
   ]
  },
  {
   "cell_type": "code",
   "execution_count": 3,
   "metadata": {
    "ExecuteTime": {
     "end_time": "2023-12-07T15:21:28.790371Z",
     "start_time": "2023-12-07T15:21:28.344316Z"
    },
    "colab": {
     "base_uri": "https://localhost:8080/"
    },
    "id": "DJTff3x3e8Xa",
    "outputId": "8a246e62-adf7-47de-c40c-557f2d23e1e6"
   },
   "outputs": [
    {
     "name": "stdout",
     "output_type": "stream",
     "text": [
      "\t\t\t\t************************************************\n",
      "\t\t\t\t\t\tTIC-TAC-TOE GAME\n",
      "\t\t\t\t************************************************\n",
      "\n",
      "\t\t\t\t\t\t|\t\t|\t\n",
      "\t\t\t\t\tX\t|\tO\t|\tX\n",
      "\t\t\t\t\t------------------------------------\n",
      "\t\t\t\t\t\t|\t\t|\t\n",
      "\t\t\t\t\tO\t|\tX\t|\tO\n",
      "\t\t\t\t\t\t|\t\t|\t\n",
      "\t\t\t\t\t------------------------------------\n",
      "\t\t\t\t\tX\t|\tO\t|\tX\n",
      "\t\t\t\t\t\t|\t\t|\t\n",
      "\n",
      "\t\t\t\t************************************************\n"
     ]
    }
   ],
   "source": [
    "# test board sample\n",
    "test_board = ['#', 'X', 'O', 'X', 'O', 'X', 'O', 'X', 'O', 'X']\n",
    "display_board(test_board)"
   ]
  },
  {
   "cell_type": "markdown",
   "metadata": {
    "id": "WXwIqQ5pe8Xd"
   },
   "source": [
    "**Step 2: Write a function that can take in a player input and assign their marker as 'X' or 'O'. Think about using *while* loops to continually ask until you get a correct answer.**"
   ]
  },
  {
   "cell_type": "code",
   "execution_count": 4,
   "metadata": {
    "ExecuteTime": {
     "end_time": "2023-12-07T15:21:29.020401Z",
     "start_time": "2023-12-07T15:21:28.807373Z"
    },
    "id": "6NtJTMt5e8Xe"
   },
   "outputs": [],
   "source": [
    "def player_input(p1, p2):\n",
    "    ''' Function to accept players user names and selection of markers '''\n",
    "    while True:\n",
    "        player1_name, player2_name = (p1, p2)\n",
    "        choice = {'O', 'X'}\n",
    "        user_input = input(f\"{player1_name}, Choose either 'X' or 'O': \")\n",
    "        # if a player selects O then the other players marker is 'X'\n",
    "\n",
    "        if user_input.upper() == 'O':\n",
    "            print(\n",
    "                f\"{player1_name} is {'O'}\\n{player2_name} is {(choice - {'O'}).pop()}\")\n",
    "            return ('O', 'X')\n",
    "            break\n",
    "\n",
    "        else:\n",
    "            print(\n",
    "                f\"{player1_name} is {'X'}\\n{player2_name} is {(choice - {'X'}).pop()}\")\n",
    "            return ('X', 'O')\n",
    "            break"
   ]
  },
  {
   "cell_type": "markdown",
   "metadata": {
    "id": "gzXOaJsIe8Xh"
   },
   "source": [
    "**Step 3: Write a function that takes in the board list object, a marker ('X' or 'O'), and a desired position (number 1-9) and assigns it to the board.**"
   ]
  },
  {
   "cell_type": "code",
   "execution_count": 5,
   "metadata": {
    "ExecuteTime": {
     "end_time": "2023-12-07T15:21:29.413284Z",
     "start_time": "2023-12-07T15:21:29.037402Z"
    },
    "id": "s8yAM4l8e8Xi"
   },
   "outputs": [],
   "source": [
    "def place_marker(board, marker, position):\n",
    "    # inputs marker corresponding to the position inputted\n",
    "    try:\n",
    "        board[int(position)] = marker\n",
    "        return board\n",
    "    except TypeError:\n",
    "        pass"
   ]
  },
  {
   "cell_type": "markdown",
   "metadata": {
    "id": "cizozxvXe8Xk"
   },
   "source": [
    "**Step 4: Write a function that takes in a board and a mark (X or O) and then checks to see if that mark has won.**"
   ]
  },
  {
   "cell_type": "code",
   "execution_count": 6,
   "metadata": {
    "ExecuteTime": {
     "end_time": "2023-12-07T15:21:29.729651Z",
     "start_time": "2023-12-07T15:21:29.427288Z"
    },
    "id": "TI_R11OHe8Xk"
   },
   "outputs": [],
   "source": [
    "def win_check(board, marker):\n",
    "    # to check if there is a winner using the players marker\n",
    "    return ((board[7] == marker and board[8] == marker and board[9] == marker) or  # across the top\n",
    "            # across the middle\n",
    "            (board[4] == marker and board[5] == marker and board[6] == marker) or\n",
    "            # across the bottom\n",
    "            (board[1] == marker and board[2] == marker and board[3] == marker) or\n",
    "            # down the middle(left)\n",
    "            (board[7] == marker and board[4] == marker and board[1] == marker) or\n",
    "            # down the middle(center)\n",
    "            (board[8] == marker and board[5] == marker and board[2] == marker) or\n",
    "            # down the right side\n",
    "            (board[9] == marker and board[6] == marker and board[3] == marker) or\n",
    "            # diagonal\n",
    "            (board[7] == marker and board[5] == marker and board[3] == marker) or\n",
    "            (board[9] == marker and board[5] == marker and board[1] == marker))  # diagonal"
   ]
  },
  {
   "cell_type": "markdown",
   "metadata": {
    "id": "LVvDlnNZe8Xm"
   },
   "source": [
    "**Step 5: Write a function that uses the random module to randomly decide which player goes first. You may want to lookup random.randint() Return a string of which player went first.**"
   ]
  },
  {
   "cell_type": "code",
   "execution_count": 7,
   "metadata": {
    "ExecuteTime": {
     "end_time": "2023-12-07T15:21:30.268226Z",
     "start_time": "2023-12-07T15:21:29.744650Z"
    },
    "id": "toc3uH9le8Xm"
   },
   "outputs": [],
   "source": [
    "import random\n",
    "\n",
    "\n",
    "# hep to select player to play first randomly\n",
    "def choose_first(p1, p2):\n",
    "\n",
    "    if random.randint(0, 1) == 1:\n",
    "        return p1, p2\n",
    "\n",
    "    else:\n",
    "        return p2, p1"
   ]
  },
  {
   "cell_type": "markdown",
   "metadata": {
    "id": "R73h8sAXe8Xn"
   },
   "source": [
    "**Step 6: Write a function that returns a boolean indicating whether a space on the board is freely available.**"
   ]
  },
  {
   "cell_type": "code",
   "execution_count": 8,
   "metadata": {
    "ExecuteTime": {
     "end_time": "2023-12-07T15:21:30.598086Z",
     "start_time": "2023-12-07T15:21:30.281226Z"
    },
    "id": "EVTzHLoDe8Xo"
   },
   "outputs": [],
   "source": [
    "def space_check(board, position):\n",
    "    '''Returns True if there is an empty position in the board'''\n",
    "    return board[int(position)] == ''"
   ]
  },
  {
   "cell_type": "markdown",
   "metadata": {
    "id": "g_2dVdNce8Xo"
   },
   "source": [
    "**Step 7: Write a function that checks if the board is full and returns a boolean value. True if full, False otherwise.**"
   ]
  },
  {
   "cell_type": "code",
   "execution_count": 9,
   "metadata": {
    "ExecuteTime": {
     "end_time": "2023-12-07T15:21:30.876470Z",
     "start_time": "2023-12-07T15:21:30.625089Z"
    },
    "id": "alx3hbgqe8Xp"
   },
   "outputs": [],
   "source": [
    "def full_board_check(board):\n",
    "    '''to check if board is full'''\n",
    "    return all([a in ('X', 'O') for a in board[1:]])"
   ]
  },
  {
   "cell_type": "markdown",
   "metadata": {
    "id": "SF1TjCjJe8Xq"
   },
   "source": [
    "**Step 8: Write a function that asks for a player's next position (as a number 1-9) and then uses the function from step 6 to check if it's a free position. If it is, then return the position for later use.**"
   ]
  },
  {
   "cell_type": "code",
   "execution_count": 10,
   "metadata": {
    "ExecuteTime": {
     "end_time": "2023-12-07T15:21:31.128698Z",
     "start_time": "2023-12-07T15:21:30.896472Z"
    },
    "id": "oBGHhK-qe8Xr"
   },
   "outputs": [],
   "source": [
    "def player_choice(board, player_name, marker):\n",
    "    while True:\n",
    "        position = input(\n",
    "            f\" {player_name},({marker}), Enter position number 1-9: \")\n",
    "\n",
    "        try:\n",
    "            # check if position of marker is free and exists\n",
    "            if 1 <= int(position) <= 9 and space_check(board, position):\n",
    "                position = int(position)\n",
    "                return position\n",
    "                break\n",
    "\n",
    "        except IndexError:\n",
    "            print('Enter number between 1 and 9 ')\n",
    "\n",
    "        except ValueError:\n",
    "            print('Enter numerical number ')"
   ]
  },
  {
   "cell_type": "markdown",
   "metadata": {
    "id": "TlG6Unute8Xs"
   },
   "source": [
    "**Step 9: Write a function that asks the player if they want to play again and returns a boolean True if they do want to play again.**"
   ]
  },
  {
   "cell_type": "code",
   "execution_count": 23,
   "metadata": {
    "ExecuteTime": {
     "end_time": "2023-12-07T15:21:31.713509Z",
     "start_time": "2023-12-07T15:21:31.143701Z"
    },
    "id": "uRz_TM97e8Xs"
   },
   "outputs": [],
   "source": [
    "def replay():\n",
    "    return input('Play Again? Enter Y to continue or any other character to end game : ').lower().startswith('y')"
   ]
  },
  {
   "cell_type": "markdown",
   "metadata": {
    "id": "Hao6Ye9ce8Xt",
    "jupyter": {
     "outputs_hidden": true
    }
   },
   "source": [
    "**Step 10: Here comes the hard part! Use while loops and the functions you've made to run the game!**"
   ]
  },
  {
   "cell_type": "code",
   "execution_count": 12,
   "metadata": {
    "ExecuteTime": {
     "end_time": "2023-12-07T15:21:32.046565Z",
     "start_time": "2023-12-07T15:21:31.742514Z"
    },
    "id": "-geiXGdH37tC",
    "scrolled": true
   },
   "outputs": [],
   "source": [
    "def username_str(string='Enter Value: '):\n",
    "    while True:\n",
    "\n",
    "        text = input(string)\n",
    "        if (text.isalnum() or text == ''):\n",
    "            return text\n",
    "\n",
    "        elif any(x == ' ' for x in text):\n",
    "            print('spaces not allowed')\n",
    "\n",
    "        else:\n",
    "            print('Only alphabets and/or numbers are allowed!')"
   ]
  },
  {
   "cell_type": "code",
   "execution_count": 31,
   "metadata": {
    "ExecuteTime": {
     "end_time": "2023-12-07T15:23:28.533657Z",
     "start_time": "2023-12-07T15:21:32.061571Z"
    },
    "colab": {
     "base_uri": "https://localhost:8080/"
    },
    "id": "13wY0eBTe8Xu",
    "outputId": "09f91af8-2039-4758-801c-006c5a09c2e2"
   },
   "outputs": [
    {
     "name": "stdout",
     "output_type": "stream",
     "text": [
      "\t\t\t\t************************************************\n",
      "\t\t\t\t\t\tTIC-TAC-TOE GAME\n",
      "\t\t\t\t************************************************\n",
      "\n",
      "\t\t\t\t\t\t|\t\t|\t\n",
      "\t\t\t\t\t\t|\tO\t|\tX\n",
      "\t\t\t\t\t------------------------------------\n",
      "\t\t\t\t\t\t|\t\t|\t\n",
      "\t\t\t\t\tO\t|\t\t|\tX\n",
      "\t\t\t\t\t\t|\t\t|\t\n",
      "\t\t\t\t\t------------------------------------\n",
      "\t\t\t\t\t\t|\t\t|\tX\n",
      "\t\t\t\t\t\t|\t\t|\t\n",
      "\n",
      "\t\t\t\t************************************************\n",
      " Congratulations! Player 1, you win\n",
      "\t\t\t\t -------------------------------------------------------\n",
      "\t\t\t\t\t\t\tSCORE BOARD\n",
      "\t\t\t\t\t ------------------------------------\n",
      "\t\t\t\t\t\tPlayer 1:\n",
      "                                                           1\n",
      "\t\t\t\t\t\tComputer:\n",
      "                                                           0\n",
      "\t\t\t\t\t\tDraw:\t \t\n",
      "                                                           1\n",
      "\t\t\t\t -------------------------------------------------------\n",
      "Game Ended !\n"
     ]
    }
   ],
   "source": [
    "###### print('Welcome to Play Tic Tac Toe!')\n",
    "print(\"Select from the options below\\n\\t1. Human against Computer\\n\\t2. Human vs Human\\n\")\n",
    "while True:\n",
    "\n",
    "    try:\n",
    "        # to play against computer or against human\n",
    "        type_of_play = int(input('Enter choice'))\n",
    "\n",
    "        if type_of_play == 2:\n",
    "            player1 = (lambda x:  'Player 1' if x == '' else x)(\n",
    "                username_str('Player 1 Enter name: '))\n",
    "            player2 = (lambda x:  'Player 2' if x == '' else x)(\n",
    "                username_str('Player 2 Enter name: '))\n",
    "            player1, player2 = choose_first(\n",
    "                player1, player2)  # picks who to play first\n",
    "            next_action1 = True\n",
    "            break\n",
    "\n",
    "        elif type_of_play == 1:\n",
    "            while True:\n",
    "                name = (lambda x: 'Player 1' if x == '' else x)(\n",
    "                    username_str('Please Enter name: '))\n",
    "                if not re.match(r'^Computer$', name, re.IGNORECASE):\n",
    "                    player1 = name\n",
    "                    player2 = 'Computer'\n",
    "                    next_action1 = True\n",
    "                    break\n",
    "                else:\n",
    "                    # player can use computer as name if player is playing against computer\n",
    "                    print('You can\\'t use \"', name, '\"')\n",
    "            break\n",
    "        else:\n",
    "            print(\"Enter 1 or 2\")\n",
    "\n",
    "    except ValueError:\n",
    "        print('input digits only!')\n",
    "\n",
    "details = {'names': [player1, player2], 'markers': list(player_input(player1, player2)), 'score_board': [\n",
    "    0, 0, 0], \"counter\": 0}  # get player names, markers,score board respectively\n",
    "\n",
    "while next_action1:\n",
    "    play_game = input('Are you ready to play? Enter Y to continue or any other character to end game : ')\n",
    "    if play_game.lower() == 'y':\n",
    "        game_on_ = True  # if game_on_ is true, game starts\n",
    "        print(f'{player1} goes first')\n",
    "        time.sleep(3)  # delays view for 3 seconds\n",
    "        break\n",
    "    else:\n",
    "        game_on_ = False\n",
    "        print('Game Ended!')\n",
    "        break\n",
    "cycle = itertools.cycle([0, 1])  # recycles list as play goes on\n",
    "theBoard = [''] * 10  # new board for game\n",
    "\n",
    "def play_score_board():\n",
    "    print('\\t\\t\\t\\t', '-----------'*5)\n",
    "    print('\\t\\t\\t\\t\\t\\t\\tSCORE BOARD')\n",
    "    print('\\t\\t\\t\\t\\t', '---------'*4)\n",
    "    ''' display win and draw scores of players'''\n",
    "    for a in range(len(details['score_board'])-1):\n",
    "        print(f'\\t\\t\\t\\t\\t\\t{details[\"names\"][a]}:')\n",
    "        print(f'{str(details[\"score_board\"][a]).rjust(60,\" \")}')\n",
    "    print(f'\\t\\t\\t\\t\\t\\tDraw:\\t \\t')\n",
    "    print(f'{str(details[\"score_board\"][-1]).rjust(60, \" \")}')\n",
    "    print('\\t\\t\\t\\t', '-----------'*5)\n",
    "\n",
    "\n",
    "def run_game(game_on):\n",
    "    def board_action(next_cycle):\n",
    "        display_board(theBoard)\n",
    "#         allows player input postion\n",
    "        if details['names'][next_cycle] == 'Computer':\n",
    "            time.sleep(0.5)\n",
    "            start_time = time.time()\n",
    "            position = random.choice(\n",
    "                [index + 1 for index, x in enumerate(theBoard[1:]) if x == ''])\n",
    "            end_time = time.time()\n",
    "            time.sleep(1)\n",
    "        elif next_cycle != 'Computer':\n",
    "            time.sleep(0.5)\n",
    "            start_time = time.time() # start of the duration it requires a player took to play \n",
    "            position = player_choice(\n",
    "                theBoard, details['names'][next_cycle], details['markers'][next_cycle])\n",
    "            end_time = time.time() # start of the duration it requires a player took to play\n",
    "        place_marker(theBoard, details['markers'][next_cycle], position)\n",
    "        display_board(theBoard) # displays game board \n",
    "        return next_cycle, position, start_time, end_time\n",
    "\n",
    "    while game_on:\n",
    "        next_ = next(cycle)  # iterates over player index\n",
    "        \n",
    "        if not full_board_check(theBoard) and not any(win_check(theBoard, marker) for marker in details['markers']): # if the board is not full and there is no winner \n",
    "\n",
    "            play, pos, time_start, time_end = board_action(next_) # extracts player id, position played and play duration  \n",
    "            time.sleep(0.5)\n",
    "            with open('ttt_mining.csv', 'a') as file:\n",
    "                # collects players playing patterns for future predictions\n",
    "                file.write(f\"player{play},{pos},{time_start},{time_end},''\\n\")\n",
    "\n",
    "        else:\n",
    "            if win_check(theBoard, details['markers'][next_]): # checks if the last marker is a winner\n",
    "                if details['names'][next_] == 'Computer':\n",
    "                    print(details['names'][next_], 'wins')\n",
    "                else:\n",
    "                    print(\n",
    "                        f\" Congratulations! {details['names'][next_]}, you win\")\n",
    "                details['score_board'][next_] += 1\n",
    "                with open('ttt_mining.csv', 'a') as file:\n",
    "                    file.write(f\"winner,'','','', {next_}\\n\")\n",
    "                details['counter'] += 1 # counts if  there is an outcome it the game\n",
    "                game_on = False # stops the loop if there is a winner \n",
    "\n",
    "            elif full_board_check(theBoard) == True:\n",
    "                print('Its a draw')\n",
    "                details['score_board'][-1] += 1\n",
    "                with open('ttt_mining.csv', 'a') as file:\n",
    "                    file.write(f\"winner,'','','', 'Draw'\\n\")\n",
    "                details['counter'] += 1 # counts if  there is an outcome it the game\n",
    "                game_on = False # stops loop if the game board is full\n",
    "\n",
    "print(details)\n",
    "time.sleep(5)\n",
    "try:\n",
    "    while details['counter'] < 1: # runs if the details counter is less than 1\n",
    "        run_game(game_on_)\n",
    "    else:\n",
    "        while True:  # continue playing every time the game_on_ is true\n",
    "            if replay():\n",
    "                theBoard = [''] * 10\n",
    "                run_game(game_on_)\n",
    "            else:\n",
    "                break\n",
    "            break\n",
    "    if details['counter'] >= 1:\n",
    "        play_score_board()\n",
    "except NameError: # invalid Name exception error catcher\n",
    "    print(f'Game Cancelled')\n",
    "except Exception as e: #catches an other exception\n",
    "    print(f'{e}')\n",
    "finally:\n",
    "    print('Game Ended !') # The end of the game"
   ]
  },
  {
   "cell_type": "markdown",
   "metadata": {
    "id": "R3ycTNvie8Xu",
    "jupyter": {
     "outputs_hidden": true
    }
   },
   "source": [
    "## Good Job!"
   ]
  }
 ],
 "metadata": {
  "colab": {
   "provenance": []
  },
  "kernelspec": {
   "display_name": "Python 3",
   "language": "python",
   "name": "python3"
  },
  "language_info": {
   "codemirror_mode": {
    "name": "ipython",
    "version": 3
   },
   "file_extension": ".py",
   "mimetype": "text/x-python",
   "name": "python",
   "nbconvert_exporter": "python",
   "pygments_lexer": "ipython3",
   "version": "3.8.8"
  },
  "varInspector": {
   "cols": {
    "lenName": 16,
    "lenType": 16,
    "lenVar": 40
   },
   "kernels_config": {
    "python": {
     "delete_cmd_postfix": "",
     "delete_cmd_prefix": "del ",
     "library": "var_list.py",
     "varRefreshCmd": "print(var_dic_list())"
    },
    "r": {
     "delete_cmd_postfix": ") ",
     "delete_cmd_prefix": "rm(",
     "library": "var_list.r",
     "varRefreshCmd": "cat(var_dic_list()) "
    }
   },
   "types_to_exclude": [
    "module",
    "function",
    "builtin_function_or_method",
    "instance",
    "_Feature"
   ],
   "window_display": false
  }
 },
 "nbformat": 4,
 "nbformat_minor": 4
}

{
 "cells": [
  {
   "cell_type": "markdown",
   "metadata": {
    "id": "fiXG_krxe8XI"
   },
   "source": [
    "___\n",
    "\n",
    "<a href='https://www.udemy.com/user/joseportilla/'><img src='../Pierian_Data_Logo.png'/></a>\n",
    "___\n",
    "<center><em>Content Copyright by Pierian Data</em></center>"
   ]
  },
  {
   "cell_type": "markdown",
   "metadata": {
    "id": "pCsgUjPGe8XS"
   },
   "source": [
    "# Milestone Project 1: Walkthrough Steps Workbook\n",
    "\n",
    "Below is a set of steps for you to follow to try to create the Tic Tac Toe Milestone Project game!"
   ]
  },
  {
   "cell_type": "markdown",
   "metadata": {
    "id": "XXTKn-BNe8XT"
   },
   "source": [
    "#### Some suggested tools before you get started:\n",
    "To take input from a user:\n",
    "\n",
    "    player1 = input(\"Please pick a marker 'X' or 'O'\")\n",
    "    \n",
    "Note that input() takes in a string. If you need an integer value, use\n",
    "\n",
    "    position = int(input('Please enter a number'))\n",
    "    \n",
    "<br>To clear the screen between moves:\n",
    "\n",
    "    from IPython.display import clear_output\n",
    "    clear_output()\n",
    "    \n",
    "Note that clear_output() will only work in jupyter. To clear the screen in other IDEs, consider:\n",
    "\n",
    "    print('\\n'*100)\n",
    "    \n",
    "This scrolls the previous board up out of view. Now on to the program!"
   ]
  },
  {
   "cell_type": "markdown",
   "metadata": {
    "id": "csVJhgoQe8XU"
   },
   "source": [
    "**Step 1: Write a function that can print out a board. Set up your board as a list, where each index 1-9 corresponds with a number on a number pad, so you get a 3 by 3 board representation.**"
   ]
  },
  {
   "cell_type": "code",
   "execution_count": 1,
   "metadata": {
    "id": "rG2b_kfme8XV"
   },
   "outputs": [],
   "source": [
    "from IPython.display import clear_output\n",
    "import asyncio\n",
    "\n",
    "\n",
    "def display_board(board):\n",
    "    clear_output()\n",
    "\n",
    "    print('\\t\\t\\t\\t' + '****'*12)\n",
    "    print('')\n",
    "    print(f'\\t\\t\\t\\t\\t\\t|\\t\\t|\\t')\n",
    "    print(f\"\\t\\t\\t\\t\\t{board[0]}\\t|\\t{board[1]}\\t|\\t{board[2]}\")\n",
    "    print(f\"\\t\\t\\t\\t\\t\" +('---')*12)\n",
    "    print(f'\\t\\t\\t\\t\\t\\t|\\t\\t|\\t')\n",
    "    print(f\"\\t\\t\\t\\t\\t{board[3]}\\t|\\t{board[4]}\\t|\\t{board[5]}\")\n",
    "    print(f'\\t\\t\\t\\t\\t\\t|\\t\\t|\\t')\n",
    "    print(f\"\\t\\t\\t\\t\\t\" +('---')*12)\n",
    "    print(f\"\\t\\t\\t\\t\\t{board[6]}\\t|\\t{board[7]}\\t|\\t{board[8]}\")\n",
    "    print(f'\\t\\t\\t\\t\\t\\t|\\t\\t|\\t')\n",
    "    print('')\n",
    "    print('\\t\\t\\t\\t' + '****'*12)"
   ]
  },
  {
   "cell_type": "markdown",
   "metadata": {
    "id": "3Zq_uq2We8XY"
   },
   "source": [
    "**TEST Step 1:** run your function on a test version of the board list, and make adjustments as necessary"
   ]
  },
  {
   "cell_type": "code",
   "execution_count": null,
   "metadata": {
    "colab": {
     "base_uri": "https://localhost:8080/"
    },
    "collapsed": true,
    "id": "DJTff3x3e8Xa",
    "jupyter": {
     "outputs_hidden": true
    },
    "outputId": "79c5365a-cdd1-4554-fb74-932109f30bfb"
   },
   "outputs": [
    {
     "name": "stdout",
     "output_type": "stream",
     "text": [
      "\t\t\t\t************************************************\n",
      "\n",
      "\t\t\t\t\t\t|\t\t|\t\n",
      "\t\t\t\t\t#\t|\tX\t|\tO\n",
      "\t\t\t\t\t------------------------------------\n",
      "\t\t\t\t\t\t|\t\t|\t\n",
      "\t\t\t\t\tX\t|\tO\t|\tX\n",
      "\t\t\t\t\t\t|\t\t|\t\n",
      "\t\t\t\t\t------------------------------------\n",
      "\t\t\t\t\tO\t|\tX\t|\tO\n",
      "\t\t\t\t\t\t|\t\t|\t\n",
      "\n",
      "\t\t\t\t************************************************\n"
     ]
    }
   ],
   "source": [
    "test_board = ['#','X','O','X','O','X','O','X','O','X']\n",
    "display_board(test_board)"
   ]
  },
  {
   "cell_type": "markdown",
   "metadata": {
    "id": "WXwIqQ5pe8Xd"
   },
   "source": [
    "**Step 2: Write a function that can take in a player input and assign their marker as 'X' or 'O'. Think about using *while* loops to continually ask until you get a correct answer.**"
   ]
  },
  {
   "cell_type": "code",
   "execution_count": null,
   "metadata": {
    "colab": {
     "base_uri": "https://localhost:8080/"
    },
    "id": "ofM_pmE5AAtD",
    "outputId": "7ea75f0f-feed-4123-80f6-fd2f6d7be604"
   },
   "outputs": [
    {
     "name": "stdout",
     "output_type": "stream",
     "text": [
      "Sam, Choose either 'X' or 'O': X\n",
      "Sam is X\n",
      "Tim is O\n"
     ]
    },
    {
     "data": {
      "text/plain": [
       "('X', 'O')"
      ]
     },
     "execution_count": 40,
     "metadata": {},
     "output_type": "execute_result"
    }
   ],
   "source": [
    "player_input()"
   ]
  },
  {
   "cell_type": "code",
   "execution_count": 3,
   "metadata": {
    "id": "6NtJTMt5e8Xe"
   },
   "outputs": [],
   "source": [
    "def player_input(p1,p2):\n",
    "  player1_name, player2_name = (p1,p2)\n",
    "  choice = {'O','X'}\n",
    "  user_input = input(f\"{player1_name}, Choose either 'X' or 'O': \")\n",
    "  # user_input = input(f\"{player2_name}, Choose either 'X' or 'O': \")\n",
    "  if user_input.upper() == 'O':\n",
    "    print(f\"{player2_name} is {'O'}\\n{player1_name} is {(choice - {'O'}).pop()}\")\n",
    "    return ('O','X')\n",
    "  else:\n",
    "    print(f\"{player1_name} is {'X'}\\n{player2_name} is {(choice - {'X'}).pop()}\")\n",
    "    return ('X','O')"
   ]
  },
  {
   "cell_type": "markdown",
   "metadata": {
    "id": "TUVENX5xe8Xf"
   },
   "source": [
    "**TEST Step 2:** run the function to make sure it returns the desired output"
   ]
  },
  {
   "cell_type": "code",
   "execution_count": null,
   "metadata": {
    "colab": {
     "base_uri": "https://localhost:8080/",
     "height": 297
    },
    "collapsed": true,
    "id": "u9flUsfWe8Xg",
    "jupyter": {
     "outputs_hidden": true
    },
    "outputId": "1f755bf2-e3fd-451c-c951-20cc09d7b930"
   },
   "outputs": [
    {
     "ename": "NameError",
     "evalue": "ignored",
     "output_type": "error",
     "traceback": [
      "\u001b[0;31m---------------------------------------------------------------------------\u001b[0m",
      "\u001b[0;31mNameError\u001b[0m                                 Traceback (most recent call last)",
      "\u001b[0;32m<ipython-input-19-26bc28122465>\u001b[0m in \u001b[0;36m<cell line: 1>\u001b[0;34m()\u001b[0m\n\u001b[0;32m----> 1\u001b[0;31m \u001b[0mplayer_input\u001b[0m\u001b[0;34m(\u001b[0m\u001b[0;34m)\u001b[0m\u001b[0;34m\u001b[0m\u001b[0;34m\u001b[0m\u001b[0m\n\u001b[0m",
      "\u001b[0;32m<ipython-input-17-bfdc43c3db58>\u001b[0m in \u001b[0;36mplayer_input\u001b[0;34m()\u001b[0m\n\u001b[1;32m      1\u001b[0m \u001b[0;32mdef\u001b[0m \u001b[0mplayer_input\u001b[0m\u001b[0;34m(\u001b[0m\u001b[0;34m)\u001b[0m\u001b[0;34m:\u001b[0m\u001b[0;34m\u001b[0m\u001b[0;34m\u001b[0m\u001b[0m\n\u001b[0;32m----> 2\u001b[0;31m   \u001b[0mplayer1_name\u001b[0m\u001b[0;34m,\u001b[0m \u001b[0mplayer2_name\u001b[0m \u001b[0;34m=\u001b[0m \u001b[0mchoose_first\u001b[0m\u001b[0;34m(\u001b[0m\u001b[0;34m)\u001b[0m\u001b[0;34m\u001b[0m\u001b[0;34m\u001b[0m\u001b[0m\n\u001b[0m\u001b[1;32m      3\u001b[0m   \u001b[0mchoice\u001b[0m \u001b[0;34m=\u001b[0m \u001b[0;34m{\u001b[0m\u001b[0;34m'O'\u001b[0m\u001b[0;34m,\u001b[0m\u001b[0;34m'X'\u001b[0m\u001b[0;34m}\u001b[0m\u001b[0;34m\u001b[0m\u001b[0;34m\u001b[0m\u001b[0m\n\u001b[1;32m      4\u001b[0m   \u001b[0muser_input\u001b[0m \u001b[0;34m=\u001b[0m \u001b[0minput\u001b[0m\u001b[0;34m(\u001b[0m\u001b[0;34mf\"{player1_name}, Choose either 'X' or 'O': \"\u001b[0m\u001b[0;34m)\u001b[0m\u001b[0;34m\u001b[0m\u001b[0;34m\u001b[0m\u001b[0m\n\u001b[1;32m      5\u001b[0m   \u001b[0;31m# user_input = input(f\"{player2_name}, Choose either 'X' or 'O': \")\u001b[0m\u001b[0;34m\u001b[0m\u001b[0;34m\u001b[0m\u001b[0m\n",
      "\u001b[0;31mNameError\u001b[0m: name 'choose_first' is not defined"
     ]
    }
   ],
   "source": [
    "player_input()"
   ]
  },
  {
   "cell_type": "markdown",
   "metadata": {
    "id": "gzXOaJsIe8Xh"
   },
   "source": [
    "**Step 3: Write a function that takes in the board list object, a marker ('X' or 'O'), and a desired position (number 1-9) and assigns it to the board.**"
   ]
  },
  {
   "cell_type": "code",
   "execution_count": 4,
   "metadata": {
    "id": "s8yAM4l8e8Xi"
   },
   "outputs": [],
   "source": [
    "def place_marker(board, marker, position):\n",
    "  # while len(board[position]) == '':\n",
    "  #   position = int(input('Enter Position'))\n",
    "  board[int(position)] = marker\n",
    "  return board\n",
    "  # return test_board\n",
    "    # pass"
   ]
  },
  {
   "cell_type": "markdown",
   "metadata": {
    "id": "Oado37fFe8Xi"
   },
   "source": [
    "**TEST Step 3:** run the place marker function using test parameters and display the modified board"
   ]
  },
  {
   "cell_type": "code",
   "execution_count": null,
   "metadata": {
    "colab": {
     "base_uri": "https://localhost:8080/",
     "height": 198
    },
    "id": "XLdl7Zv4l-qM",
    "outputId": "cfd8b9a6-135f-40ed-fc4e-131452068d67"
   },
   "outputs": [
    {
     "ename": "NameError",
     "evalue": "ignored",
     "output_type": "error",
     "traceback": [
      "\u001b[0;31m---------------------------------------------------------------------------\u001b[0m",
      "\u001b[0;31mNameError\u001b[0m                                 Traceback (most recent call last)",
      "\u001b[0;32m<ipython-input-5-b59cb1abca88>\u001b[0m in \u001b[0;36m<cell line: 1>\u001b[0;34m()\u001b[0m\n\u001b[0;32m----> 1\u001b[0;31m \u001b[0mdisplay_board\u001b[0m\u001b[0;34m(\u001b[0m\u001b[0mtest_board\u001b[0m\u001b[0;34m[\u001b[0m\u001b[0;36m1\u001b[0m\u001b[0;34m:\u001b[0m\u001b[0;34m]\u001b[0m\u001b[0;34m)\u001b[0m\u001b[0;34m\u001b[0m\u001b[0;34m\u001b[0m\u001b[0m\n\u001b[0m",
      "\u001b[0;31mNameError\u001b[0m: name 'test_board' is not defined"
     ]
    }
   ],
   "source": [
    "display_board(test_board[1:])"
   ]
  },
  {
   "cell_type": "code",
   "execution_count": null,
   "metadata": {
    "id": "6ZZK0A6oGOk1"
   },
   "outputs": [],
   "source": [
    "test_board = ['#', 'X', 'O', 'X', 'O', 'X', 'O', 'X', 'X', 'X']"
   ]
  },
  {
   "cell_type": "code",
   "execution_count": null,
   "metadata": {
    "colab": {
     "base_uri": "https://localhost:8080/"
    },
    "collapsed": true,
    "id": "T59fyO8Ue8Xj",
    "jupyter": {
     "outputs_hidden": true
    },
    "outputId": "4a59b477-8bad-45e6-bbf4-ff180f0ec75e"
   },
   "outputs": [
    {
     "name": "stdout",
     "output_type": "stream",
     "text": [
      "\t\t\t\t************************************************\n",
      "\n",
      "\t\t\t\t\t\t|\t\t|\t\n",
      "\t\t\t\t\tX\t|\tO\t|\tX\n",
      "\t\t\t\t\t------------------------------------\n",
      "\t\t\t\t\t\t|\t\t|\t\n",
      "\t\t\t\t\tO\t|\tX\t|\tO\n",
      "\t\t\t\t\t\t|\t\t|\t\n",
      "\t\t\t\t\t------------------------------------\n",
      "\t\t\t\t\tX\t|\t$\t|\tX\n",
      "\t\t\t\t\t\t|\t\t|\t\n",
      "\n",
      "\t\t\t\t************************************************\n"
     ]
    }
   ],
   "source": [
    "place_marker(test_board,'$',8)\n",
    "display_board(test_board[1:])"
   ]
  },
  {
   "cell_type": "markdown",
   "metadata": {
    "id": "cizozxvXe8Xk"
   },
   "source": [
    "**Step 4: Write a function that takes in a board and a mark (X or O) and then checks to see if that mark has won. **"
   ]
  },
  {
   "cell_type": "code",
   "execution_count": 5,
   "metadata": {
    "id": "TI_R11OHe8Xk"
   },
   "outputs": [],
   "source": [
    "def win_check(board, marker):\n",
    "  return ((board[7] == marker and board[8] == marker and board[9] == marker) or # across the top\n",
    "          (board[4] == marker and board[5] == marker and board[6] == marker) or # across the middle\n",
    "          (board[1] == marker and board[2] == marker and board[3] == marker) or # across the bottom\n",
    "          (board[7] == marker and board[4] == marker and board[1] == marker) or # down the middle(left)\n",
    "          (board[8] == marker and board[5] == marker and board[2] == marker) or #down the middle(center)\n",
    "          (board[9] == marker and board[6] == marker and board[3] == marker) or # down the right side\n",
    "          (board[7] == marker and board[5] == marker and board[3] == marker) or # diagonal\n",
    "          (board[9] == marker and board[5] == marker and board[1] == marker)) # diagonal"
   ]
  },
  {
   "cell_type": "markdown",
   "metadata": {
    "id": "M1DWuMTce8Xl"
   },
   "source": [
    "**TEST Step 4:** run the win_check function against our test_board - it should return True"
   ]
  },
  {
   "cell_type": "code",
   "execution_count": null,
   "metadata": {
    "id": "dBEIlgm1pZkM"
   },
   "outputs": [],
   "source": []
  },
  {
   "cell_type": "code",
   "execution_count": null,
   "metadata": {
    "colab": {
     "base_uri": "https://localhost:8080/"
    },
    "collapsed": true,
    "id": "WLbJRY42e8Xl",
    "jupyter": {
     "outputs_hidden": true
    },
    "outputId": "5ccf0ee0-1110-4442-9dcb-b4ea563ed370"
   },
   "outputs": [
    {
     "data": {
      "text/plain": [
       "True"
      ]
     },
     "execution_count": 25,
     "metadata": {},
     "output_type": "execute_result"
    }
   ],
   "source": [
    "win_check(test_board,'X')"
   ]
  },
  {
   "cell_type": "markdown",
   "metadata": {
    "id": "LVvDlnNZe8Xm"
   },
   "source": [
    "**Step 5: Write a function that uses the random module to randomly decide which player goes first. You may want to lookup random.randint() Return a string of which player went first.**"
   ]
  },
  {
   "cell_type": "code",
   "execution_count": null,
   "metadata": {
    "colab": {
     "base_uri": "https://localhost:8080/",
     "height": 53
    },
    "id": "lEaXXwLg5lpX",
    "outputId": "9eabc2f4-a3e4-418e-8e03-db7a307391c7"
   },
   "outputs": [
    {
     "name": "stdout",
     "output_type": "stream",
     "text": [
      "Player 1 Enter name: \n"
     ]
    },
    {
     "data": {
      "application/vnd.google.colaboratory.intrinsic+json": {
       "type": "string"
      },
      "text/plain": [
       "'Player 1'"
      ]
     },
     "execution_count": 26,
     "metadata": {},
     "output_type": "execute_result"
    }
   ],
   "source": []
  },
  {
   "cell_type": "code",
   "execution_count": 6,
   "metadata": {
    "id": "toc3uH9le8Xm"
   },
   "outputs": [],
   "source": [
    "import random\n",
    "def choose_first(p1,p2):\n",
    "\n",
    "  if random.randint(0,1) == 1 :\n",
    "    # print(f'{player1_name} starts')\n",
    "    return p1, p2\n",
    "  else:\n",
    "    # print(f'{player2_name} starts')\n",
    "    return p2, p1"
   ]
  },
  {
   "cell_type": "markdown",
   "metadata": {
    "id": "R73h8sAXe8Xn"
   },
   "source": [
    "**Step 6: Write a function that returns a boolean indicating whether a space on the board is freely available.**"
   ]
  },
  {
   "cell_type": "code",
   "execution_count": null,
   "metadata": {
    "colab": {
     "base_uri": "https://localhost:8080/"
    },
    "id": "l6nOdciRpuxJ",
    "outputId": "88a6cb52-3ca1-4960-ee00-447da2bec893"
   },
   "outputs": [
    {
     "data": {
      "text/plain": [
       "('Sam', 'Tim')"
      ]
     },
     "execution_count": 30,
     "metadata": {},
     "output_type": "execute_result"
    }
   ],
   "source": [
    "choose_first('Sam','Tim')"
   ]
  },
  {
   "cell_type": "code",
   "execution_count": null,
   "metadata": {
    "colab": {
     "base_uri": "https://localhost:8080/"
    },
    "id": "CsMOJoAwn0sm",
    "outputId": "5dd2fc18-141e-4402-8985-aaadf9169701"
   },
   "outputs": [
    {
     "data": {
      "text/plain": [
       "True"
      ]
     },
     "execution_count": 22,
     "metadata": {},
     "output_type": "execute_result"
    }
   ],
   "source": [
    "space_check(['']*10,8)"
   ]
  },
  {
   "cell_type": "code",
   "execution_count": 7,
   "metadata": {
    "id": "EVTzHLoDe8Xo"
   },
   "outputs": [],
   "source": [
    "def space_check(board, position):\n",
    "  return board[int(position)] == ''"
   ]
  },
  {
   "cell_type": "markdown",
   "metadata": {
    "id": "g_2dVdNce8Xo"
   },
   "source": [
    "**Step 7: Write a function that checks if the board is full and returns a boolean value. True if full, False otherwise.**"
   ]
  },
  {
   "cell_type": "code",
   "execution_count": 8,
   "metadata": {
    "id": "alx3hbgqe8Xp"
   },
   "outputs": [],
   "source": [
    "def full_board_check(board):\n",
    "  return all([a in ('X','O') for a in board[1:]])"
   ]
  },
  {
   "cell_type": "code",
   "execution_count": null,
   "metadata": {
    "colab": {
     "base_uri": "https://localhost:8080/"
    },
    "id": "a2WCREkjshmc",
    "outputId": "b7fd79ab-b11b-4af1-a28d-1810ec2a142a"
   },
   "outputs": [
    {
     "data": {
      "text/plain": [
       "False"
      ]
     },
     "execution_count": 37,
     "metadata": {},
     "output_type": "execute_result"
    }
   ],
   "source": [
    "full_board_check(['#', 'X', 'O', 'X', 'O', 'X', 'O', 'X', 'O', ' '])\n",
    "# test_board"
   ]
  },
  {
   "cell_type": "markdown",
   "metadata": {
    "id": "SF1TjCjJe8Xq"
   },
   "source": [
    "**Step 8: Write a function that asks for a player's next position (as a number 1-9) and then uses the function from step 6 to check if it's a free position. If it is, then return the position for later use.**"
   ]
  },
  {
   "cell_type": "code",
   "execution_count": 9,
   "metadata": {
    "id": "oBGHhK-qe8Xr"
   },
   "outputs": [],
   "source": [
    "def player_choice(board, player_name):\n",
    "  while True:\n",
    "    position =  input(f'{player_name}, Enter position number 1-9: ')\n",
    "    try:\n",
    "      if 1 <= int(position) <=9 and space_check(board,position):\n",
    "        position = int(position)\n",
    "        return position\n",
    "    except IndexError :\n",
    "      print('Enter number between 1 and 9 ')\n",
    "    except ValueError:\n",
    "      print('Enter numerical number ')\n",
    "    # pass"
   ]
  },
  {
   "cell_type": "code",
   "execution_count": null,
   "metadata": {
    "colab": {
     "base_uri": "https://localhost:8080/"
    },
    "id": "eMUWnkSxPSBk",
    "outputId": "4739ae04-b61c-4563-dbe6-46848c171eb3"
   },
   "outputs": [
    {
     "name": "stdout",
     "output_type": "stream",
     "text": [
      "John, Enter position number 1-9: 5\n",
      "John, Enter position number 1-9: 6\n"
     ]
    },
    {
     "data": {
      "text/plain": [
       "''"
      ]
     },
     "execution_count": 217,
     "metadata": {},
     "output_type": "execute_result"
    }
   ],
   "source": [
    "# test_board[6] =\n",
    "# type(player_choice(test_board,'John'))\n",
    "test_board[player_choice(test_board,'John')]"
   ]
  },
  {
   "cell_type": "code",
   "execution_count": null,
   "metadata": {
    "colab": {
     "base_uri": "https://localhost:8080/"
    },
    "id": "BLOcXTgvuu84",
    "outputId": "a56d4a91-ed58-491b-f81a-68cc8dad6fd8"
   },
   "outputs": [
    {
     "data": {
      "text/plain": [
       "['#', 'X', '', 'X', 'O', 'X', '', '', 'O', 'X']"
      ]
     },
     "execution_count": 205,
     "metadata": {},
     "output_type": "execute_result"
    }
   ],
   "source": [
    "7\n",
    "test_board"
   ]
  },
  {
   "cell_type": "code",
   "execution_count": null,
   "metadata": {
    "colab": {
     "base_uri": "https://localhost:8080/"
    },
    "id": "6NDMb95HwQLa",
    "outputId": "e025df60-6243-47ab-cb3e-9c29aa2d1d03"
   },
   "outputs": [
    {
     "data": {
      "text/plain": [
       "True"
      ]
     },
     "execution_count": 317,
     "metadata": {},
     "output_type": "execute_result"
    }
   ],
   "source": [
    "6win_check(test_board,'O')"
   ]
  },
  {
   "cell_type": "markdown",
   "metadata": {
    "id": "TlG6Unute8Xs"
   },
   "source": [
    "**Step 9: Write a function that asks the player if they want to play again and returns a boolean True if they do want to play again.**"
   ]
  },
  {
   "cell_type": "code",
   "execution_count": 10,
   "metadata": {
    "id": "uRz_TM97e8Xs"
   },
   "outputs": [],
   "source": [
    "def replay():\n",
    "    return input('Play Again? (Y/N): ').lower().startswith('y')"
   ]
  },
  {
   "cell_type": "code",
   "execution_count": null,
   "metadata": {
    "colab": {
     "base_uri": "https://localhost:8080/"
    },
    "id": "gvhj_mQc01jg",
    "outputId": "00c710e6-5af4-4bad-f194-55c9a9da62cc"
   },
   "outputs": [
    {
     "name": "stdout",
     "output_type": "stream",
     "text": [
      "0\n",
      "1\n",
      "0\n",
      "1\n",
      "0\n"
     ]
    }
   ],
   "source": [
    "cycle = itertools.cycle([0,1])\n",
    "print(next(cycle))\n",
    "print(next(cycle))\n",
    "print(next(cycle))\n",
    "print(next(cycle))\n",
    "print(next(cycle))"
   ]
  },
  {
   "cell_type": "markdown",
   "metadata": {
    "collapsed": true,
    "id": "Hao6Ye9ce8Xt",
    "jupyter": {
     "outputs_hidden": true
    }
   },
   "source": [
    "**Step 10: Here comes the hard part! Use while loops and the functions you've made to run the game!**"
   ]
  },
  {
   "cell_type": "code",
   "execution_count": 11,
   "metadata": {
    "colab": {
     "base_uri": "https://localhost:8080/"
    },
    "id": "C0HNxN1712If",
    "outputId": "3ebc77f4-26c4-41e4-b712-3b45dfc93210"
   },
   "outputs": [
    {
     "name": "stdin",
     "output_type": "stream",
     "text": [
      "Do you want to continue:  y\n",
      "Do you want to continue:  y\n"
     ]
    }
   ],
   "source": [
    "import itertools\n",
    "\n",
    "my_list = [1, 2, 3, 4]  # Your list of items\n",
    "# iterations = 7  # Number of times you want to print the list\n",
    "cycles = itertools.cycle(my_list)\n",
    "for a in range(2):\n",
    "  gam = input('Do you want to continue: ')\n",
    "  try:\n",
    "    if gam.lower()[0] == 'y':\n",
    "      breakpoint()\n",
    "      # print(next(cycles))\n",
    "    elif gam.lower()[0] == 'n':\n",
    "      print ('Done !')\n",
    "      break\n",
    "  except ValueError :\n",
    "    print('Input Numbers')\n",
    "  except IndexError :\n",
    "    print('Input numerical value')\n",
    "    # for _ in range(len(my_list)):\n",
    "    #     print(_)\n"
   ]
  },
  {
   "cell_type": "code",
   "execution_count": 12,
   "metadata": {
    "colab": {
     "base_uri": "https://localhost:8080/"
    },
    "id": "5fR-jsRthJkx",
    "outputId": "9895d183-fa14-4230-8773-575a514e1f62"
   },
   "outputs": [
    {
     "name": "stdin",
     "output_type": "stream",
     "text": [
      "Player 1 Enter name:  Sam\n",
      "Player 2 Enter name:  Pete\n"
     ]
    }
   ],
   "source": []
  },
  {
   "cell_type": "code",
   "execution_count": null,
   "metadata": {
    "colab": {
     "base_uri": "https://localhost:8080/",
     "height": 516
    },
    "id": "13wY0eBTe8Xu",
    "outputId": "d2a7307b-6377-4295-d432-68c74c20ee91"
   },
   "outputs": [],
   "source": [
    "#### print('Welcome to Tic Tac Toe!')\n",
    "player1 =  (lambda x :  'Player 1' if x == '' else x)( input('Player 1 Enter name: '))\n",
    "player2 =  (lambda x :  'Player 2' if x == '' else x)( input('Player 2 Enter name: '))\n",
    "players = choose_first(player1,player2)\n",
    "details = {'names':[player1,player2],'markers':list(player_input(player1,player2)),'score_board':[0,0], \"counter\": 0 }\n",
    "\n",
    "# # get player markers\n",
    "\n",
    "  # determine who goes first\n",
    "cycle = itertools.cycle([0,1])\n",
    "theBoard = [''] * 10\n",
    "play_game = input('Are you ready to play? Enter Y / N : ')\n",
    "if play_game.lower()[0] == 'y':\n",
    "    game_on_ = True\n",
    "  # break\n",
    "else:\n",
    "  game_on_ = False\n",
    "  print('Game Ended!')\n",
    "  # break\n",
    "def clear_board():\n",
    "  my_Board = ['']*10\n",
    "  return my_Board\n",
    "def run_game(game_on):\n",
    "  # theBoard =\n",
    "  while game_on == True:\n",
    "    # print(full_board_check(theBoard))\n",
    "\n",
    "  #       break\n",
    "  #       # game loop for a slngle round\n",
    "  #     #Player 1 Turn\n",
    "\n",
    "    def board_action (next_cycle):\n",
    "      display_board(theBoard[1:])\n",
    "      position = player_choice(theBoard, details['names'][next_cycle])\n",
    "      place_marker(theBoard, details['markers'][next_cycle], position)\n",
    "      return display_board(theBoard[1:])\n",
    "    def display_score_board():\n",
    "        print('\\t\\t\\t\\t\\t\\t\\t-----------')\n",
    "        print('\\t\\t\\t\\t\\t\\t\\tSCORE BOARD')\n",
    "        print('\\t\\t\\t\\t\\t\\t\\t-----------')\n",
    "        # break\n",
    "        for score in score_board.keys():\n",
    "        print(f'\\t\\t\\t\\t\\t\\t\\t|{score}:\\t {score_board[score]}|')\n",
    "        print('\\t\\t\\t\\t\\t\\t\\t-----------')\n",
    "    print('\\t\\t\\t\\t\\t\\t\\t-----------')\n",
    "\n",
    "    next_ = next(cycle)\n",
    "    if not full_board_check(theBoard) and not any(win_check(theBoard,marker) for marker in details['markers']):\n",
    "      board_action(next_)\n",
    "      print(win_check(theBoard, details['markers'][next_]))\n",
    "      print('full',full_board_check(theBoard))\n",
    "      # next = next(cycle)\n",
    "    else:\n",
    "      if win_check(theBoard,details['markers'][next_]):\n",
    "        print(details['names'][next_], 'wins')\n",
    "        game_on = False\n",
    "        break\n",
    "\n",
    "      elif full_board_check(theBoard):\n",
    "        print('Its a draw')\n",
    "        game_on = False\n",
    "        break\n",
    "    details['counter'] += 1\n",
    "try:\n",
    "    while details['counter'] < 1:\n",
    "        run_game(game_on_)\n",
    "    else: \n",
    "        replay_ = replay()\n",
    "        while replay_:\n",
    "            theBoard = [''] * 10\n",
    "            run_game(replay_)\n",
    "            details['counter'] += 1\n",
    "        else:\n",
    "            print('Game Ended !')\n",
    "except EXCEPTION :\n",
    "    print('Error Found')\n",
    "finally:\n",
    "    display_score_board()\n",
    "\n",
    "\n",
    "\n",
    "\n",
    "  # #     if not replay():\n",
    "  # #       break\n",
    "  # #     #   display_board(theBoard[1:])\n",
    "  # #     #   break\n",
    "\n",
    "  # break"
   ]
  },
  {
   "cell_type": "markdown",
   "metadata": {
    "id": "U7eGx_s3NujR"
   },
   "source": [
    "# New section"
   ]
  },
  {
   "cell_type": "code",
   "execution_count": null,
   "metadata": {
    "colab": {
     "base_uri": "https://localhost:8080/",
     "height": 698
    },
    "id": "m4Jfa50MwlTh",
    "outputId": "cf6dce8b-6104-447a-abe8-d820f2475dfc"
   },
   "outputs": [
    {
     "name": "stdout",
     "output_type": "stream",
     "text": [
      "\t\t\t\t************************************************\n",
      "\n",
      "\t\t\t\t\t\t|\t\t|\t\n",
      "\t\t\t\t\tO\t|\tX\t|\tO\n",
      "\t\t\t\t\t------------------------------------\n",
      "\t\t\t\t\t\t|\t\t|\t\n",
      "\t\t\t\t\tO\t|\tO\t|\tX\n",
      "\t\t\t\t\t\t|\t\t|\t\n",
      "\t\t\t\t\t------------------------------------\n",
      "\t\t\t\t\tX\t|\tX\t|\tX\n",
      "\t\t\t\t\t\t|\t\t|\t\n",
      "\n",
      "\t\t\t\t************************************************\n"
     ]
    },
    {
     "ename": "KeyboardInterrupt",
     "evalue": "ignored",
     "output_type": "error",
     "traceback": [
      "\u001b[0;31m---------------------------------------------------------------------------\u001b[0m",
      "\u001b[0;31mKeyboardInterrupt\u001b[0m                         Traceback (most recent call last)",
      "\u001b[0;32m<ipython-input-102-b8401c9652df>\u001b[0m in \u001b[0;36m<cell line: 1>\u001b[0;34m()\u001b[0m\n\u001b[1;32m      1\u001b[0m \u001b[0;32mif\u001b[0m \u001b[0mreplay\u001b[0m\u001b[0;34m(\u001b[0m\u001b[0;34m)\u001b[0m\u001b[0;34m:\u001b[0m\u001b[0;34m\u001b[0m\u001b[0;34m\u001b[0m\u001b[0m\n\u001b[1;32m      2\u001b[0m   \u001b[0mtheBoard\u001b[0m \u001b[0;34m=\u001b[0m \u001b[0mclear_board\u001b[0m\u001b[0;34m(\u001b[0m\u001b[0;34m)\u001b[0m\u001b[0;34m\u001b[0m\u001b[0;34m\u001b[0m\u001b[0m\n\u001b[0;32m----> 3\u001b[0;31m   \u001b[0mrun_game\u001b[0m\u001b[0;34m(\u001b[0m\u001b[0mgame_on_\u001b[0m\u001b[0;34m)\u001b[0m\u001b[0;34m\u001b[0m\u001b[0;34m\u001b[0m\u001b[0m\n\u001b[0m\u001b[1;32m      4\u001b[0m \u001b[0;32melse\u001b[0m\u001b[0;34m:\u001b[0m\u001b[0;34m\u001b[0m\u001b[0;34m\u001b[0m\u001b[0m\n\u001b[1;32m      5\u001b[0m   \u001b[0mprint\u001b[0m\u001b[0;34m(\u001b[0m\u001b[0;34m'Done'\u001b[0m\u001b[0;34m)\u001b[0m\u001b[0;34m\u001b[0m\u001b[0;34m\u001b[0m\u001b[0m\n",
      "\u001b[0;32m<ipython-input-99-ab76bb0e0ff1>\u001b[0m in \u001b[0;36mrun_game\u001b[0;34m(game_on)\u001b[0m\n\u001b[1;32m     49\u001b[0m \u001b[0;34m\u001b[0m\u001b[0m\n\u001b[1;32m     50\u001b[0m     \u001b[0;32mif\u001b[0m \u001b[0;32mnot\u001b[0m \u001b[0mfull_board_check\u001b[0m\u001b[0;34m(\u001b[0m\u001b[0mtheBoard\u001b[0m\u001b[0;34m)\u001b[0m \u001b[0;32mand\u001b[0m \u001b[0;32mnot\u001b[0m \u001b[0many\u001b[0m\u001b[0;34m(\u001b[0m\u001b[0mwin_check\u001b[0m\u001b[0;34m(\u001b[0m\u001b[0mtheBoard\u001b[0m\u001b[0;34m,\u001b[0m\u001b[0mmarker\u001b[0m\u001b[0;34m)\u001b[0m \u001b[0;32mfor\u001b[0m \u001b[0mmarker\u001b[0m \u001b[0;32min\u001b[0m \u001b[0mdetails\u001b[0m\u001b[0;34m[\u001b[0m\u001b[0;34m'markers'\u001b[0m\u001b[0;34m]\u001b[0m\u001b[0;34m)\u001b[0m\u001b[0;34m:\u001b[0m\u001b[0;34m\u001b[0m\u001b[0;34m\u001b[0m\u001b[0m\n\u001b[0;32m---> 51\u001b[0;31m       \u001b[0mboard_action\u001b[0m\u001b[0;34m(\u001b[0m\u001b[0mnext_\u001b[0m\u001b[0;34m,\u001b[0m\u001b[0mmy_Board\u001b[0m\u001b[0;34m)\u001b[0m\u001b[0;34m\u001b[0m\u001b[0;34m\u001b[0m\u001b[0m\n\u001b[0m\u001b[1;32m     52\u001b[0m       \u001b[0mprint\u001b[0m\u001b[0;34m(\u001b[0m\u001b[0mwin_check\u001b[0m\u001b[0;34m(\u001b[0m\u001b[0mtheBoard\u001b[0m\u001b[0;34m,\u001b[0m \u001b[0mdetails\u001b[0m\u001b[0;34m[\u001b[0m\u001b[0;34m'markers'\u001b[0m\u001b[0;34m]\u001b[0m\u001b[0;34m[\u001b[0m\u001b[0mnext_\u001b[0m\u001b[0;34m]\u001b[0m\u001b[0;34m)\u001b[0m\u001b[0;34m)\u001b[0m\u001b[0;34m\u001b[0m\u001b[0;34m\u001b[0m\u001b[0m\n\u001b[1;32m     53\u001b[0m       \u001b[0mprint\u001b[0m\u001b[0;34m(\u001b[0m\u001b[0;34m'full'\u001b[0m\u001b[0;34m,\u001b[0m\u001b[0mfull_board_check\u001b[0m\u001b[0;34m(\u001b[0m\u001b[0mtheBoard\u001b[0m\u001b[0;34m)\u001b[0m\u001b[0;34m)\u001b[0m\u001b[0;34m\u001b[0m\u001b[0;34m\u001b[0m\u001b[0m\n",
      "\u001b[0;32m<ipython-input-99-ab76bb0e0ff1>\u001b[0m in \u001b[0;36mboard_action\u001b[0;34m(next_cycle, theBoard)\u001b[0m\n\u001b[1;32m     37\u001b[0m     \u001b[0;32mdef\u001b[0m \u001b[0mboard_action\u001b[0m \u001b[0;34m(\u001b[0m\u001b[0mnext_cycle\u001b[0m\u001b[0;34m,\u001b[0m\u001b[0mtheBoard\u001b[0m\u001b[0;34m)\u001b[0m\u001b[0;34m:\u001b[0m\u001b[0;34m\u001b[0m\u001b[0;34m\u001b[0m\u001b[0m\n\u001b[1;32m     38\u001b[0m       \u001b[0mdisplay_board\u001b[0m\u001b[0;34m(\u001b[0m\u001b[0mtheBoard\u001b[0m\u001b[0;34m[\u001b[0m\u001b[0;36m1\u001b[0m\u001b[0;34m:\u001b[0m\u001b[0;34m]\u001b[0m\u001b[0;34m)\u001b[0m\u001b[0;34m\u001b[0m\u001b[0;34m\u001b[0m\u001b[0m\n\u001b[0;32m---> 39\u001b[0;31m       \u001b[0mposition\u001b[0m \u001b[0;34m=\u001b[0m \u001b[0mplayer_choice\u001b[0m\u001b[0;34m(\u001b[0m\u001b[0mtheBoard\u001b[0m\u001b[0;34m,\u001b[0m \u001b[0mdetails\u001b[0m\u001b[0;34m[\u001b[0m\u001b[0;34m'names'\u001b[0m\u001b[0;34m]\u001b[0m\u001b[0;34m[\u001b[0m\u001b[0mnext_cycle\u001b[0m\u001b[0;34m]\u001b[0m\u001b[0;34m)\u001b[0m\u001b[0;34m\u001b[0m\u001b[0;34m\u001b[0m\u001b[0m\n\u001b[0m\u001b[1;32m     40\u001b[0m       \u001b[0mplace_marker\u001b[0m\u001b[0;34m(\u001b[0m\u001b[0mtheBoard\u001b[0m\u001b[0;34m,\u001b[0m \u001b[0mdetails\u001b[0m\u001b[0;34m[\u001b[0m\u001b[0;34m'markers'\u001b[0m\u001b[0;34m]\u001b[0m\u001b[0;34m[\u001b[0m\u001b[0mnext_cycle\u001b[0m\u001b[0;34m]\u001b[0m\u001b[0;34m,\u001b[0m \u001b[0mposition\u001b[0m\u001b[0;34m)\u001b[0m\u001b[0;34m\u001b[0m\u001b[0;34m\u001b[0m\u001b[0m\n\u001b[1;32m     41\u001b[0m       \u001b[0;32mreturn\u001b[0m \u001b[0mdisplay_board\u001b[0m\u001b[0;34m(\u001b[0m\u001b[0mtheBoard\u001b[0m\u001b[0;34m[\u001b[0m\u001b[0;36m1\u001b[0m\u001b[0;34m:\u001b[0m\u001b[0;34m]\u001b[0m\u001b[0;34m)\u001b[0m\u001b[0;34m\u001b[0m\u001b[0;34m\u001b[0m\u001b[0m\n",
      "\u001b[0;32m<ipython-input-9-422f543ca3e1>\u001b[0m in \u001b[0;36mplayer_choice\u001b[0;34m(board, player_name)\u001b[0m\n\u001b[1;32m      1\u001b[0m \u001b[0;32mdef\u001b[0m \u001b[0mplayer_choice\u001b[0m\u001b[0;34m(\u001b[0m\u001b[0mboard\u001b[0m\u001b[0;34m,\u001b[0m \u001b[0mplayer_name\u001b[0m\u001b[0;34m)\u001b[0m\u001b[0;34m:\u001b[0m\u001b[0;34m\u001b[0m\u001b[0;34m\u001b[0m\u001b[0m\n\u001b[1;32m      2\u001b[0m   \u001b[0;32mwhile\u001b[0m \u001b[0;32mTrue\u001b[0m\u001b[0;34m:\u001b[0m\u001b[0;34m\u001b[0m\u001b[0;34m\u001b[0m\u001b[0m\n\u001b[0;32m----> 3\u001b[0;31m     \u001b[0mposition\u001b[0m \u001b[0;34m=\u001b[0m  \u001b[0minput\u001b[0m\u001b[0;34m(\u001b[0m\u001b[0;34mf'{player_name}, Enter position number 1-9: '\u001b[0m\u001b[0;34m)\u001b[0m\u001b[0;34m\u001b[0m\u001b[0;34m\u001b[0m\u001b[0m\n\u001b[0m\u001b[1;32m      4\u001b[0m     \u001b[0;32mtry\u001b[0m\u001b[0;34m:\u001b[0m\u001b[0;34m\u001b[0m\u001b[0;34m\u001b[0m\u001b[0m\n\u001b[1;32m      5\u001b[0m       \u001b[0;32mif\u001b[0m \u001b[0;36m1\u001b[0m \u001b[0;34m<=\u001b[0m \u001b[0mint\u001b[0m\u001b[0;34m(\u001b[0m\u001b[0mposition\u001b[0m\u001b[0;34m)\u001b[0m \u001b[0;34m<=\u001b[0m\u001b[0;36m9\u001b[0m \u001b[0;32mand\u001b[0m \u001b[0mspace_check\u001b[0m\u001b[0;34m(\u001b[0m\u001b[0mboard\u001b[0m\u001b[0;34m,\u001b[0m\u001b[0mposition\u001b[0m\u001b[0;34m)\u001b[0m\u001b[0;34m:\u001b[0m\u001b[0;34m\u001b[0m\u001b[0;34m\u001b[0m\u001b[0m\n",
      "\u001b[0;32m/usr/local/lib/python3.10/dist-packages/ipykernel/kernelbase.py\u001b[0m in \u001b[0;36mraw_input\u001b[0;34m(self, prompt)\u001b[0m\n\u001b[1;32m    849\u001b[0m                 \u001b[0;34m\"raw_input was called, but this frontend does not support input requests.\"\u001b[0m\u001b[0;34m\u001b[0m\u001b[0;34m\u001b[0m\u001b[0m\n\u001b[1;32m    850\u001b[0m             )\n\u001b[0;32m--> 851\u001b[0;31m         return self._input_request(str(prompt),\n\u001b[0m\u001b[1;32m    852\u001b[0m             \u001b[0mself\u001b[0m\u001b[0;34m.\u001b[0m\u001b[0m_parent_ident\u001b[0m\u001b[0;34m,\u001b[0m\u001b[0;34m\u001b[0m\u001b[0;34m\u001b[0m\u001b[0m\n\u001b[1;32m    853\u001b[0m             \u001b[0mself\u001b[0m\u001b[0;34m.\u001b[0m\u001b[0m_parent_header\u001b[0m\u001b[0;34m,\u001b[0m\u001b[0;34m\u001b[0m\u001b[0;34m\u001b[0m\u001b[0m\n",
      "\u001b[0;32m/usr/local/lib/python3.10/dist-packages/ipykernel/kernelbase.py\u001b[0m in \u001b[0;36m_input_request\u001b[0;34m(self, prompt, ident, parent, password)\u001b[0m\n\u001b[1;32m    893\u001b[0m             \u001b[0;32mexcept\u001b[0m \u001b[0mKeyboardInterrupt\u001b[0m\u001b[0;34m:\u001b[0m\u001b[0;34m\u001b[0m\u001b[0;34m\u001b[0m\u001b[0m\n\u001b[1;32m    894\u001b[0m                 \u001b[0;31m# re-raise KeyboardInterrupt, to truncate traceback\u001b[0m\u001b[0;34m\u001b[0m\u001b[0;34m\u001b[0m\u001b[0m\n\u001b[0;32m--> 895\u001b[0;31m                 \u001b[0;32mraise\u001b[0m \u001b[0mKeyboardInterrupt\u001b[0m\u001b[0;34m(\u001b[0m\u001b[0;34m\"Interrupted by user\"\u001b[0m\u001b[0;34m)\u001b[0m \u001b[0;32mfrom\u001b[0m \u001b[0;32mNone\u001b[0m\u001b[0;34m\u001b[0m\u001b[0;34m\u001b[0m\u001b[0m\n\u001b[0m\u001b[1;32m    896\u001b[0m             \u001b[0;32mexcept\u001b[0m \u001b[0mException\u001b[0m \u001b[0;32mas\u001b[0m \u001b[0me\u001b[0m\u001b[0;34m:\u001b[0m\u001b[0;34m\u001b[0m\u001b[0;34m\u001b[0m\u001b[0m\n\u001b[1;32m    897\u001b[0m                 \u001b[0mself\u001b[0m\u001b[0;34m.\u001b[0m\u001b[0mlog\u001b[0m\u001b[0;34m.\u001b[0m\u001b[0mwarning\u001b[0m\u001b[0;34m(\u001b[0m\u001b[0;34m\"Invalid Message:\"\u001b[0m\u001b[0;34m,\u001b[0m \u001b[0mexc_info\u001b[0m\u001b[0;34m=\u001b[0m\u001b[0;32mTrue\u001b[0m\u001b[0;34m)\u001b[0m\u001b[0;34m\u001b[0m\u001b[0;34m\u001b[0m\u001b[0m\n",
      "\u001b[0;31mKeyboardInterrupt\u001b[0m: Interrupted by user"
     ]
    }
   ],
   "source": [
    "if replay():\n",
    "  theBoard = clear_board()\n",
    "  run_game(game_on_)\n",
    "else:\n",
    "  print('Done')"
   ]
  },
  {
   "cell_type": "code",
   "execution_count": null,
   "metadata": {
    "colab": {
     "base_uri": "https://localhost:8080/",
     "height": 659
    },
    "id": "usgJeZmwAITH",
    "outputId": "428d7842-4f2f-4073-c590-c4d04ebd7d62"
   },
   "outputs": [
    {
     "name": "stdout",
     "output_type": "stream",
     "text": [
      "\t\t\t\t************************************************\n",
      "\n",
      "\t\t\t\t\t\t|\t\t|\t\n",
      "\t\t\t\t\tO\t|\tX\t|\tO\n",
      "\t\t\t\t\t------------------------------------\n",
      "\t\t\t\t\t\t|\t\t|\t\n",
      "\t\t\t\t\tO\t|\tO\t|\tX\n",
      "\t\t\t\t\t\t|\t\t|\t\n",
      "\t\t\t\t\t------------------------------------\n",
      "\t\t\t\t\tX\t|\tX\t|\tX\n",
      "\t\t\t\t\t\t|\t\t|\t\n",
      "\n",
      "\t\t\t\t************************************************\n"
     ]
    },
    {
     "ename": "KeyboardInterrupt",
     "evalue": "ignored",
     "output_type": "error",
     "traceback": [
      "\u001b[0;31m---------------------------------------------------------------------------\u001b[0m",
      "\u001b[0;31mKeyboardInterrupt\u001b[0m                         Traceback (most recent call last)",
      "\u001b[0;32m<ipython-input-104-a354c2bf9fe1>\u001b[0m in \u001b[0;36m<cell line: 2>\u001b[0;34m()\u001b[0m\n\u001b[1;32m      1\u001b[0m \u001b[0;31m# my = clear_board()\u001b[0m\u001b[0;34m\u001b[0m\u001b[0;34m\u001b[0m\u001b[0m\n\u001b[0;32m----> 2\u001b[0;31m \u001b[0mrun_game\u001b[0m\u001b[0;34m(\u001b[0m\u001b[0mgame_on_\u001b[0m\u001b[0;34m)\u001b[0m\u001b[0;34m\u001b[0m\u001b[0;34m\u001b[0m\u001b[0m\n\u001b[0m\u001b[1;32m      3\u001b[0m \u001b[0;31m# my\u001b[0m\u001b[0;34m\u001b[0m\u001b[0;34m\u001b[0m\u001b[0m\n",
      "\u001b[0;32m<ipython-input-103-2f6ac3c451c1>\u001b[0m in \u001b[0;36mrun_game\u001b[0;34m(game_on)\u001b[0m\n\u001b[1;32m     50\u001b[0m \u001b[0;34m\u001b[0m\u001b[0m\n\u001b[1;32m     51\u001b[0m     \u001b[0;32mif\u001b[0m \u001b[0;32mnot\u001b[0m \u001b[0mfull_board_check\u001b[0m\u001b[0;34m(\u001b[0m\u001b[0mtheBoard\u001b[0m\u001b[0;34m)\u001b[0m \u001b[0;32mand\u001b[0m \u001b[0;32mnot\u001b[0m \u001b[0many\u001b[0m\u001b[0;34m(\u001b[0m\u001b[0mwin_check\u001b[0m\u001b[0;34m(\u001b[0m\u001b[0mtheBoard\u001b[0m\u001b[0;34m,\u001b[0m\u001b[0mmarker\u001b[0m\u001b[0;34m)\u001b[0m \u001b[0;32mfor\u001b[0m \u001b[0mmarker\u001b[0m \u001b[0;32min\u001b[0m \u001b[0mdetails\u001b[0m\u001b[0;34m[\u001b[0m\u001b[0;34m'markers'\u001b[0m\u001b[0;34m]\u001b[0m\u001b[0;34m)\u001b[0m\u001b[0;34m:\u001b[0m\u001b[0;34m\u001b[0m\u001b[0;34m\u001b[0m\u001b[0m\n\u001b[0;32m---> 52\u001b[0;31m       \u001b[0mboard_action\u001b[0m\u001b[0;34m(\u001b[0m\u001b[0mnext_\u001b[0m\u001b[0;34m,\u001b[0m\u001b[0mmy_Board\u001b[0m\u001b[0;34m)\u001b[0m\u001b[0;34m\u001b[0m\u001b[0;34m\u001b[0m\u001b[0m\n\u001b[0m\u001b[1;32m     53\u001b[0m       \u001b[0mprint\u001b[0m\u001b[0;34m(\u001b[0m\u001b[0mwin_check\u001b[0m\u001b[0;34m(\u001b[0m\u001b[0mtheBoard\u001b[0m\u001b[0;34m,\u001b[0m \u001b[0mdetails\u001b[0m\u001b[0;34m[\u001b[0m\u001b[0;34m'markers'\u001b[0m\u001b[0;34m]\u001b[0m\u001b[0;34m[\u001b[0m\u001b[0mnext_\u001b[0m\u001b[0;34m]\u001b[0m\u001b[0;34m)\u001b[0m\u001b[0;34m)\u001b[0m\u001b[0;34m\u001b[0m\u001b[0;34m\u001b[0m\u001b[0m\n\u001b[1;32m     54\u001b[0m       \u001b[0mprint\u001b[0m\u001b[0;34m(\u001b[0m\u001b[0;34m'full'\u001b[0m\u001b[0;34m,\u001b[0m\u001b[0mfull_board_check\u001b[0m\u001b[0;34m(\u001b[0m\u001b[0mtheBoard\u001b[0m\u001b[0;34m)\u001b[0m\u001b[0;34m)\u001b[0m\u001b[0;34m\u001b[0m\u001b[0;34m\u001b[0m\u001b[0m\n",
      "\u001b[0;32m<ipython-input-103-2f6ac3c451c1>\u001b[0m in \u001b[0;36mboard_action\u001b[0;34m(next_cycle, theBoard)\u001b[0m\n\u001b[1;32m     38\u001b[0m     \u001b[0;32mdef\u001b[0m \u001b[0mboard_action\u001b[0m \u001b[0;34m(\u001b[0m\u001b[0mnext_cycle\u001b[0m\u001b[0;34m,\u001b[0m\u001b[0mtheBoard\u001b[0m\u001b[0;34m)\u001b[0m\u001b[0;34m:\u001b[0m\u001b[0;34m\u001b[0m\u001b[0;34m\u001b[0m\u001b[0m\n\u001b[1;32m     39\u001b[0m       \u001b[0mdisplay_board\u001b[0m\u001b[0;34m(\u001b[0m\u001b[0mtheBoard\u001b[0m\u001b[0;34m[\u001b[0m\u001b[0;36m1\u001b[0m\u001b[0;34m:\u001b[0m\u001b[0;34m]\u001b[0m\u001b[0;34m)\u001b[0m\u001b[0;34m\u001b[0m\u001b[0;34m\u001b[0m\u001b[0m\n\u001b[0;32m---> 40\u001b[0;31m       \u001b[0mposition\u001b[0m \u001b[0;34m=\u001b[0m \u001b[0mplayer_choice\u001b[0m\u001b[0;34m(\u001b[0m\u001b[0mtheBoard\u001b[0m\u001b[0;34m,\u001b[0m \u001b[0mdetails\u001b[0m\u001b[0;34m[\u001b[0m\u001b[0;34m'names'\u001b[0m\u001b[0;34m]\u001b[0m\u001b[0;34m[\u001b[0m\u001b[0mnext_cycle\u001b[0m\u001b[0;34m]\u001b[0m\u001b[0;34m)\u001b[0m\u001b[0;34m\u001b[0m\u001b[0;34m\u001b[0m\u001b[0m\n\u001b[0m\u001b[1;32m     41\u001b[0m       \u001b[0mplace_marker\u001b[0m\u001b[0;34m(\u001b[0m\u001b[0mtheBoard\u001b[0m\u001b[0;34m,\u001b[0m \u001b[0mdetails\u001b[0m\u001b[0;34m[\u001b[0m\u001b[0;34m'markers'\u001b[0m\u001b[0;34m]\u001b[0m\u001b[0;34m[\u001b[0m\u001b[0mnext_cycle\u001b[0m\u001b[0;34m]\u001b[0m\u001b[0;34m,\u001b[0m \u001b[0mposition\u001b[0m\u001b[0;34m)\u001b[0m\u001b[0;34m\u001b[0m\u001b[0;34m\u001b[0m\u001b[0m\n\u001b[1;32m     42\u001b[0m       \u001b[0;32mreturn\u001b[0m \u001b[0mdisplay_board\u001b[0m\u001b[0;34m(\u001b[0m\u001b[0mtheBoard\u001b[0m\u001b[0;34m[\u001b[0m\u001b[0;36m1\u001b[0m\u001b[0;34m:\u001b[0m\u001b[0;34m]\u001b[0m\u001b[0;34m)\u001b[0m\u001b[0;34m\u001b[0m\u001b[0;34m\u001b[0m\u001b[0m\n",
      "\u001b[0;32m<ipython-input-9-422f543ca3e1>\u001b[0m in \u001b[0;36mplayer_choice\u001b[0;34m(board, player_name)\u001b[0m\n\u001b[1;32m      1\u001b[0m \u001b[0;32mdef\u001b[0m \u001b[0mplayer_choice\u001b[0m\u001b[0;34m(\u001b[0m\u001b[0mboard\u001b[0m\u001b[0;34m,\u001b[0m \u001b[0mplayer_name\u001b[0m\u001b[0;34m)\u001b[0m\u001b[0;34m:\u001b[0m\u001b[0;34m\u001b[0m\u001b[0;34m\u001b[0m\u001b[0m\n\u001b[1;32m      2\u001b[0m   \u001b[0;32mwhile\u001b[0m \u001b[0;32mTrue\u001b[0m\u001b[0;34m:\u001b[0m\u001b[0;34m\u001b[0m\u001b[0;34m\u001b[0m\u001b[0m\n\u001b[0;32m----> 3\u001b[0;31m     \u001b[0mposition\u001b[0m \u001b[0;34m=\u001b[0m  \u001b[0minput\u001b[0m\u001b[0;34m(\u001b[0m\u001b[0;34mf'{player_name}, Enter position number 1-9: '\u001b[0m\u001b[0;34m)\u001b[0m\u001b[0;34m\u001b[0m\u001b[0;34m\u001b[0m\u001b[0m\n\u001b[0m\u001b[1;32m      4\u001b[0m     \u001b[0;32mtry\u001b[0m\u001b[0;34m:\u001b[0m\u001b[0;34m\u001b[0m\u001b[0;34m\u001b[0m\u001b[0m\n\u001b[1;32m      5\u001b[0m       \u001b[0;32mif\u001b[0m \u001b[0;36m1\u001b[0m \u001b[0;34m<=\u001b[0m \u001b[0mint\u001b[0m\u001b[0;34m(\u001b[0m\u001b[0mposition\u001b[0m\u001b[0;34m)\u001b[0m \u001b[0;34m<=\u001b[0m\u001b[0;36m9\u001b[0m \u001b[0;32mand\u001b[0m \u001b[0mspace_check\u001b[0m\u001b[0;34m(\u001b[0m\u001b[0mboard\u001b[0m\u001b[0;34m,\u001b[0m\u001b[0mposition\u001b[0m\u001b[0;34m)\u001b[0m\u001b[0;34m:\u001b[0m\u001b[0;34m\u001b[0m\u001b[0;34m\u001b[0m\u001b[0m\n",
      "\u001b[0;32m/usr/local/lib/python3.10/dist-packages/ipykernel/kernelbase.py\u001b[0m in \u001b[0;36mraw_input\u001b[0;34m(self, prompt)\u001b[0m\n\u001b[1;32m    849\u001b[0m                 \u001b[0;34m\"raw_input was called, but this frontend does not support input requests.\"\u001b[0m\u001b[0;34m\u001b[0m\u001b[0;34m\u001b[0m\u001b[0m\n\u001b[1;32m    850\u001b[0m             )\n\u001b[0;32m--> 851\u001b[0;31m         return self._input_request(str(prompt),\n\u001b[0m\u001b[1;32m    852\u001b[0m             \u001b[0mself\u001b[0m\u001b[0;34m.\u001b[0m\u001b[0m_parent_ident\u001b[0m\u001b[0;34m,\u001b[0m\u001b[0;34m\u001b[0m\u001b[0;34m\u001b[0m\u001b[0m\n\u001b[1;32m    853\u001b[0m             \u001b[0mself\u001b[0m\u001b[0;34m.\u001b[0m\u001b[0m_parent_header\u001b[0m\u001b[0;34m,\u001b[0m\u001b[0;34m\u001b[0m\u001b[0;34m\u001b[0m\u001b[0m\n",
      "\u001b[0;32m/usr/local/lib/python3.10/dist-packages/ipykernel/kernelbase.py\u001b[0m in \u001b[0;36m_input_request\u001b[0;34m(self, prompt, ident, parent, password)\u001b[0m\n\u001b[1;32m    893\u001b[0m             \u001b[0;32mexcept\u001b[0m \u001b[0mKeyboardInterrupt\u001b[0m\u001b[0;34m:\u001b[0m\u001b[0;34m\u001b[0m\u001b[0;34m\u001b[0m\u001b[0m\n\u001b[1;32m    894\u001b[0m                 \u001b[0;31m# re-raise KeyboardInterrupt, to truncate traceback\u001b[0m\u001b[0;34m\u001b[0m\u001b[0;34m\u001b[0m\u001b[0m\n\u001b[0;32m--> 895\u001b[0;31m                 \u001b[0;32mraise\u001b[0m \u001b[0mKeyboardInterrupt\u001b[0m\u001b[0;34m(\u001b[0m\u001b[0;34m\"Interrupted by user\"\u001b[0m\u001b[0;34m)\u001b[0m \u001b[0;32mfrom\u001b[0m \u001b[0;32mNone\u001b[0m\u001b[0;34m\u001b[0m\u001b[0;34m\u001b[0m\u001b[0m\n\u001b[0m\u001b[1;32m    896\u001b[0m             \u001b[0;32mexcept\u001b[0m \u001b[0mException\u001b[0m \u001b[0;32mas\u001b[0m \u001b[0me\u001b[0m\u001b[0;34m:\u001b[0m\u001b[0;34m\u001b[0m\u001b[0;34m\u001b[0m\u001b[0m\n\u001b[1;32m    897\u001b[0m                 \u001b[0mself\u001b[0m\u001b[0;34m.\u001b[0m\u001b[0mlog\u001b[0m\u001b[0;34m.\u001b[0m\u001b[0mwarning\u001b[0m\u001b[0;34m(\u001b[0m\u001b[0;34m\"Invalid Message:\"\u001b[0m\u001b[0;34m,\u001b[0m \u001b[0mexc_info\u001b[0m\u001b[0;34m=\u001b[0m\u001b[0;32mTrue\u001b[0m\u001b[0;34m)\u001b[0m\u001b[0;34m\u001b[0m\u001b[0;34m\u001b[0m\u001b[0m\n",
      "\u001b[0;31mKeyboardInterrupt\u001b[0m: Interrupted by user"
     ]
    }
   ],
   "source": [
    "# my = clear_board()\n",
    "run_game(game_on_)\n",
    "# my"
   ]
  },
  {
   "cell_type": "code",
   "execution_count": null,
   "metadata": {
    "colab": {
     "base_uri": "https://localhost:8080/",
     "height": 140
    },
    "id": "EZtHJDMobHT3",
    "outputId": "dcd0ae36-d213-490e-f8ab-267b971929a7"
   },
   "outputs": [
    {
     "ename": "SyntaxError",
     "evalue": "ignored",
     "output_type": "error",
     "traceback": [
      "\u001b[0;36m  File \u001b[0;32m\"<ipython-input-67-72072473694e>\"\u001b[0;36m, line \u001b[0;32m1\u001b[0m\n\u001b[0;31m    5nprint('\\t\\t\\t\\t\\t\\t\\t-----------')\u001b[0m\n\u001b[0m    ^\u001b[0m\n\u001b[0;31mSyntaxError\u001b[0m\u001b[0;31m:\u001b[0m invalid decimal literal\n"
     ]
    }
   ],
   "source": [
    "5nprint('\\t\\t\\t\\t\\t\\t\\t-----------')\n",
    "print('\\t\\t\\t\\t\\t\\t\\tSCORE BOARD')\n",
    "print('\\t\\t\\t\\t\\t\\t\\t-----------')\n",
    "for score in score_board.keys():\n",
    "  print(f'\\t\\t\\t\\t\\t\\t\\t|{score}:\\t {score_board[score]}|')\n",
    "  print('\\t\\t\\t\\t\\t\\t\\t-----------')\n",
    "print('\\t\\t\\t\\t\\t\\t\\t-----------')\n"
   ]
  },
  {
   "cell_type": "code",
   "execution_count": null,
   "metadata": {
    "colab": {
     "base_uri": "https://localhost:8080/",
     "height": 35
    },
    "id": "1hep0rg0dKwA",
    "outputId": "f440286c-814a-4c63-dd2c-d198bbd3f492"
   },
   "outputs": [
    {
     "data": {
      "application/vnd.google.colaboratory.intrinsic+json": {
       "type": "string"
      },
      "text/plain": [
       "'elbac'"
      ]
     },
     "execution_count": 41,
     "metadata": {},
     "output_type": "execute_result"
    }
   ],
   "source": [
    "a = 'cable'\n",
    "a[::-1]"
   ]
  },
  {
   "cell_type": "code",
   "execution_count": null,
   "metadata": {
    "colab": {
     "base_uri": "https://localhost:8080/",
     "height": 193
    },
    "id": "8GL9Whw5dP7P",
    "outputId": "a6f272ed-197d-4fb3-9739-a60d661faa4b"
   },
   "outputs": [
    {
     "ename": "SyntaxError",
     "evalue": "ignored",
     "output_type": "error",
     "traceback": [
      "\u001b[0;36m  File \u001b[0;32m\"<ipython-input-23-39e483816b7a>\"\u001b[0;36m, line \u001b[0;32m2\u001b[0m\n\u001b[0;31m    return input('Enter string values\").reverse()\u001b[0m\n\u001b[0m                 ^\u001b[0m\n\u001b[0;31mSyntaxError\u001b[0m\u001b[0;31m:\u001b[0m unterminated string literal (detected at line 2)\n"
     ]
    }
   ],
   "source": [
    "def reverse_string():\n",
    "  return input('Enter string values\")["
   ]
  },
  {
   "cell_type": "code",
   "execution_count": null,
   "metadata": {
    "colab": {
     "base_uri": "https://localhost:8080/"
    },
    "id": "Lykp-vd8dNd7",
    "outputId": "38bccc51-35a2-42d8-d630-0e37d91a5522"
   },
   "outputs": [
    {
     "name": "stderr",
     "output_type": "stream",
     "text": [
      "<ipython-input-44-2b43375612c8>:1: DtypeWarning: Columns (14,26) have mixed types. Specify dtype option on import or set low_memory=False.\n",
      "  data = pd.read_csv('https://raw.githubusercontent.com/imabiodun/fifa-ranking/main/fifa.csv')\n"
     ]
    }
   ],
   "source": [
    "data = pd.read_csv('https://raw.githubusercontent.com/imabiodun/fifa-ranking/main/fifa.csv')"
   ]
  },
  {
   "cell_type": "code",
   "execution_count": null,
   "metadata": {
    "colab": {
     "base_uri": "https://localhost:8080/",
     "height": 513
    },
    "id": "Sd25GQatVOI_",
    "outputId": "eb31b263-9d9f-47d1-ab73-722a9be29251"
   },
   "outputs": [
    {
     "data": {
      "text/html": [
       "\n",
       "  <div id=\"df-3544f0b2-aefc-4482-a81b-ebf4c9282709\" class=\"colab-df-container\">\n",
       "    <div>\n",
       "<style scoped>\n",
       "    .dataframe tbody tr th:only-of-type {\n",
       "        vertical-align: middle;\n",
       "    }\n",
       "\n",
       "    .dataframe tbody tr th {\n",
       "        vertical-align: top;\n",
       "    }\n",
       "\n",
       "    .dataframe thead th {\n",
       "        text-align: right;\n",
       "    }\n",
       "</style>\n",
       "<table border=\"1\" class=\"dataframe\">\n",
       "  <thead>\n",
       "    <tr style=\"text-align: right;\">\n",
       "      <th></th>\n",
       "      <th>Name</th>\n",
       "      <th>Age</th>\n",
       "      <th>Nationality</th>\n",
       "      <th>Overall</th>\n",
       "      <th>Acceleration</th>\n",
       "      <th>Aggression</th>\n",
       "      <th>Agility</th>\n",
       "      <th>Balance</th>\n",
       "      <th>Ball control</th>\n",
       "      <th>Composure</th>\n",
       "      <th>...</th>\n",
       "      <th>Short passing</th>\n",
       "      <th>Shot power</th>\n",
       "      <th>Sliding tackle</th>\n",
       "      <th>Sprint speed</th>\n",
       "      <th>Stamina</th>\n",
       "      <th>Standing tackle</th>\n",
       "      <th>Strength</th>\n",
       "      <th>Vision</th>\n",
       "      <th>Volleys</th>\n",
       "      <th>Preferred Positions</th>\n",
       "    </tr>\n",
       "  </thead>\n",
       "  <tbody>\n",
       "    <tr>\n",
       "      <th>6</th>\n",
       "      <td>De Gea</td>\n",
       "      <td>26</td>\n",
       "      <td>Spain</td>\n",
       "      <td>90</td>\n",
       "      <td>57</td>\n",
       "      <td>38</td>\n",
       "      <td>60</td>\n",
       "      <td>43</td>\n",
       "      <td>42</td>\n",
       "      <td>64</td>\n",
       "      <td>...</td>\n",
       "      <td>50</td>\n",
       "      <td>31</td>\n",
       "      <td>13</td>\n",
       "      <td>58</td>\n",
       "      <td>40</td>\n",
       "      <td>21</td>\n",
       "      <td>64</td>\n",
       "      <td>68</td>\n",
       "      <td>13</td>\n",
       "      <td>GK</td>\n",
       "    </tr>\n",
       "    <tr>\n",
       "      <th>7</th>\n",
       "      <td>E. Hazard</td>\n",
       "      <td>26</td>\n",
       "      <td>Belgium</td>\n",
       "      <td>90</td>\n",
       "      <td>93</td>\n",
       "      <td>54</td>\n",
       "      <td>93</td>\n",
       "      <td>91</td>\n",
       "      <td>92</td>\n",
       "      <td>87</td>\n",
       "      <td>...</td>\n",
       "      <td>86</td>\n",
       "      <td>79</td>\n",
       "      <td>22</td>\n",
       "      <td>87</td>\n",
       "      <td>79</td>\n",
       "      <td>27</td>\n",
       "      <td>65</td>\n",
       "      <td>86</td>\n",
       "      <td>79</td>\n",
       "      <td>LW</td>\n",
       "    </tr>\n",
       "    <tr>\n",
       "      <th>8</th>\n",
       "      <td>T. Kroos</td>\n",
       "      <td>27</td>\n",
       "      <td>Germany</td>\n",
       "      <td>90</td>\n",
       "      <td>60</td>\n",
       "      <td>60</td>\n",
       "      <td>71</td>\n",
       "      <td>69</td>\n",
       "      <td>89</td>\n",
       "      <td>85</td>\n",
       "      <td>...</td>\n",
       "      <td>90</td>\n",
       "      <td>87</td>\n",
       "      <td>69</td>\n",
       "      <td>52</td>\n",
       "      <td>77</td>\n",
       "      <td>82</td>\n",
       "      <td>74</td>\n",
       "      <td>88</td>\n",
       "      <td>82</td>\n",
       "      <td>CDM CM</td>\n",
       "    </tr>\n",
       "    <tr>\n",
       "      <th>9</th>\n",
       "      <td>G. Higuaín</td>\n",
       "      <td>29</td>\n",
       "      <td>Argentina</td>\n",
       "      <td>90</td>\n",
       "      <td>78</td>\n",
       "      <td>50</td>\n",
       "      <td>75</td>\n",
       "      <td>69</td>\n",
       "      <td>85</td>\n",
       "      <td>86</td>\n",
       "      <td>...</td>\n",
       "      <td>75</td>\n",
       "      <td>88</td>\n",
       "      <td>18</td>\n",
       "      <td>80</td>\n",
       "      <td>72</td>\n",
       "      <td>22</td>\n",
       "      <td>85</td>\n",
       "      <td>70</td>\n",
       "      <td>88</td>\n",
       "      <td>ST</td>\n",
       "    </tr>\n",
       "    <tr>\n",
       "      <th>10</th>\n",
       "      <td>Sergio Ramos</td>\n",
       "      <td>31</td>\n",
       "      <td>Spain</td>\n",
       "      <td>90</td>\n",
       "      <td>75</td>\n",
       "      <td>84</td>\n",
       "      <td>79</td>\n",
       "      <td>60</td>\n",
       "      <td>84</td>\n",
       "      <td>80</td>\n",
       "      <td>...</td>\n",
       "      <td>78</td>\n",
       "      <td>79</td>\n",
       "      <td>91</td>\n",
       "      <td>77</td>\n",
       "      <td>84</td>\n",
       "      <td>89</td>\n",
       "      <td>81</td>\n",
       "      <td>63</td>\n",
       "      <td>66</td>\n",
       "      <td>CB</td>\n",
       "    </tr>\n",
       "    <tr>\n",
       "      <th>...</th>\n",
       "      <td>...</td>\n",
       "      <td>...</td>\n",
       "      <td>...</td>\n",
       "      <td>...</td>\n",
       "      <td>...</td>\n",
       "      <td>...</td>\n",
       "      <td>...</td>\n",
       "      <td>...</td>\n",
       "      <td>...</td>\n",
       "      <td>...</td>\n",
       "      <td>...</td>\n",
       "      <td>...</td>\n",
       "      <td>...</td>\n",
       "      <td>...</td>\n",
       "      <td>...</td>\n",
       "      <td>...</td>\n",
       "      <td>...</td>\n",
       "      <td>...</td>\n",
       "      <td>...</td>\n",
       "      <td>...</td>\n",
       "      <td>...</td>\n",
       "    </tr>\n",
       "    <tr>\n",
       "      <th>17976</th>\n",
       "      <td>A. Kelsey</td>\n",
       "      <td>17</td>\n",
       "      <td>England</td>\n",
       "      <td>46</td>\n",
       "      <td>24</td>\n",
       "      <td>16</td>\n",
       "      <td>38</td>\n",
       "      <td>26</td>\n",
       "      <td>12</td>\n",
       "      <td>23</td>\n",
       "      <td>...</td>\n",
       "      <td>19</td>\n",
       "      <td>19</td>\n",
       "      <td>10</td>\n",
       "      <td>32</td>\n",
       "      <td>28</td>\n",
       "      <td>11</td>\n",
       "      <td>50</td>\n",
       "      <td>26</td>\n",
       "      <td>6</td>\n",
       "      <td>GK</td>\n",
       "    </tr>\n",
       "    <tr>\n",
       "      <th>17977</th>\n",
       "      <td>B. Richardson</td>\n",
       "      <td>47</td>\n",
       "      <td>England</td>\n",
       "      <td>46</td>\n",
       "      <td>25</td>\n",
       "      <td>44</td>\n",
       "      <td>35</td>\n",
       "      <td>44</td>\n",
       "      <td>22</td>\n",
       "      <td>44</td>\n",
       "      <td>...</td>\n",
       "      <td>12</td>\n",
       "      <td>13</td>\n",
       "      <td>13</td>\n",
       "      <td>25</td>\n",
       "      <td>32</td>\n",
       "      <td>12</td>\n",
       "      <td>47</td>\n",
       "      <td>17</td>\n",
       "      <td>12</td>\n",
       "      <td>GK</td>\n",
       "    </tr>\n",
       "    <tr>\n",
       "      <th>17978</th>\n",
       "      <td>J. Young</td>\n",
       "      <td>17</td>\n",
       "      <td>Scotland</td>\n",
       "      <td>46</td>\n",
       "      <td>66</td>\n",
       "      <td>26</td>\n",
       "      <td>60</td>\n",
       "      <td>77</td>\n",
       "      <td>41</td>\n",
       "      <td>50</td>\n",
       "      <td>...</td>\n",
       "      <td>42</td>\n",
       "      <td>42</td>\n",
       "      <td>14</td>\n",
       "      <td>51</td>\n",
       "      <td>33</td>\n",
       "      <td>17</td>\n",
       "      <td>32</td>\n",
       "      <td>37</td>\n",
       "      <td>33</td>\n",
       "      <td>ST</td>\n",
       "    </tr>\n",
       "    <tr>\n",
       "      <th>17979</th>\n",
       "      <td>J. Lundstram</td>\n",
       "      <td>18</td>\n",
       "      <td>England</td>\n",
       "      <td>46</td>\n",
       "      <td>57</td>\n",
       "      <td>46</td>\n",
       "      <td>58</td>\n",
       "      <td>74</td>\n",
       "      <td>43</td>\n",
       "      <td>45</td>\n",
       "      <td>...</td>\n",
       "      <td>49</td>\n",
       "      <td>43</td>\n",
       "      <td>47</td>\n",
       "      <td>58</td>\n",
       "      <td>49</td>\n",
       "      <td>48</td>\n",
       "      <td>46</td>\n",
       "      <td>51</td>\n",
       "      <td>25</td>\n",
       "      <td>CM</td>\n",
       "    </tr>\n",
       "    <tr>\n",
       "      <th>17980</th>\n",
       "      <td>L. Sackey</td>\n",
       "      <td>18</td>\n",
       "      <td>Ghana</td>\n",
       "      <td>46</td>\n",
       "      <td>48</td>\n",
       "      <td>52</td>\n",
       "      <td>49</td>\n",
       "      <td>47</td>\n",
       "      <td>32</td>\n",
       "      <td>33</td>\n",
       "      <td>...</td>\n",
       "      <td>31</td>\n",
       "      <td>21</td>\n",
       "      <td>43</td>\n",
       "      <td>49</td>\n",
       "      <td>55</td>\n",
       "      <td>44</td>\n",
       "      <td>67</td>\n",
       "      <td>22</td>\n",
       "      <td>19</td>\n",
       "      <td>ST CB</td>\n",
       "    </tr>\n",
       "  </tbody>\n",
       "</table>\n",
       "<p>17975 rows × 39 columns</p>\n",
       "</div>\n",
       "    <div class=\"colab-df-buttons\">\n",
       "\n",
       "  <div class=\"colab-df-container\">\n",
       "    <button class=\"colab-df-convert\" onclick=\"convertToInteractive('df-3544f0b2-aefc-4482-a81b-ebf4c9282709')\"\n",
       "            title=\"Convert this dataframe to an interactive table.\"\n",
       "            style=\"display:none;\">\n",
       "\n",
       "  <svg xmlns=\"http://www.w3.org/2000/svg\" height=\"24px\" viewBox=\"0 -960 960 960\">\n",
       "    <path d=\"M120-120v-720h720v720H120Zm60-500h600v-160H180v160Zm220 220h160v-160H400v160Zm0 220h160v-160H400v160ZM180-400h160v-160H180v160Zm440 0h160v-160H620v160ZM180-180h160v-160H180v160Zm440 0h160v-160H620v160Z\"/>\n",
       "  </svg>\n",
       "    </button>\n",
       "\n",
       "  <style>\n",
       "    .colab-df-container {\n",
       "      display:flex;\n",
       "      gap: 12px;\n",
       "    }\n",
       "\n",
       "    .colab-df-convert {\n",
       "      background-color: #E8F0FE;\n",
       "      border: none;\n",
       "      border-radius: 50%;\n",
       "      cursor: pointer;\n",
       "      display: none;\n",
       "      fill: #1967D2;\n",
       "      height: 32px;\n",
       "      padding: 0 0 0 0;\n",
       "      width: 32px;\n",
       "    }\n",
       "\n",
       "    .colab-df-convert:hover {\n",
       "      background-color: #E2EBFA;\n",
       "      box-shadow: 0px 1px 2px rgba(60, 64, 67, 0.3), 0px 1px 3px 1px rgba(60, 64, 67, 0.15);\n",
       "      fill: #174EA6;\n",
       "    }\n",
       "\n",
       "    .colab-df-buttons div {\n",
       "      margin-bottom: 4px;\n",
       "    }\n",
       "\n",
       "    [theme=dark] .colab-df-convert {\n",
       "      background-color: #3B4455;\n",
       "      fill: #D2E3FC;\n",
       "    }\n",
       "\n",
       "    [theme=dark] .colab-df-convert:hover {\n",
       "      background-color: #434B5C;\n",
       "      box-shadow: 0px 1px 3px 1px rgba(0, 0, 0, 0.15);\n",
       "      filter: drop-shadow(0px 1px 2px rgba(0, 0, 0, 0.3));\n",
       "      fill: #FFFFFF;\n",
       "    }\n",
       "  </style>\n",
       "\n",
       "    <script>\n",
       "      const buttonEl =\n",
       "        document.querySelector('#df-3544f0b2-aefc-4482-a81b-ebf4c9282709 button.colab-df-convert');\n",
       "      buttonEl.style.display =\n",
       "        google.colab.kernel.accessAllowed ? 'block' : 'none';\n",
       "\n",
       "      async function convertToInteractive(key) {\n",
       "        const element = document.querySelector('#df-3544f0b2-aefc-4482-a81b-ebf4c9282709');\n",
       "        const dataTable =\n",
       "          await google.colab.kernel.invokeFunction('convertToInteractive',\n",
       "                                                    [key], {});\n",
       "        if (!dataTable) return;\n",
       "\n",
       "        const docLinkHtml = 'Like what you see? Visit the ' +\n",
       "          '<a target=\"_blank\" href=https://colab.research.google.com/notebooks/data_table.ipynb>data table notebook</a>'\n",
       "          + ' to learn more about interactive tables.';\n",
       "        element.innerHTML = '';\n",
       "        dataTable['output_type'] = 'display_data';\n",
       "        await google.colab.output.renderOutput(dataTable, element);\n",
       "        const docLink = document.createElement('div');\n",
       "        docLink.innerHTML = docLinkHtml;\n",
       "        element.appendChild(docLink);\n",
       "      }\n",
       "    </script>\n",
       "  </div>\n",
       "\n",
       "\n",
       "<div id=\"df-b8b47c5a-ae62-44df-a56d-98f88b15514e\">\n",
       "  <button class=\"colab-df-quickchart\" onclick=\"quickchart('df-b8b47c5a-ae62-44df-a56d-98f88b15514e')\"\n",
       "            title=\"Suggest charts\"\n",
       "            style=\"display:none;\">\n",
       "\n",
       "<svg xmlns=\"http://www.w3.org/2000/svg\" height=\"24px\"viewBox=\"0 0 24 24\"\n",
       "     width=\"24px\">\n",
       "    <g>\n",
       "        <path d=\"M19 3H5c-1.1 0-2 .9-2 2v14c0 1.1.9 2 2 2h14c1.1 0 2-.9 2-2V5c0-1.1-.9-2-2-2zM9 17H7v-7h2v7zm4 0h-2V7h2v10zm4 0h-2v-4h2v4z\"/>\n",
       "    </g>\n",
       "</svg>\n",
       "  </button>\n",
       "\n",
       "<style>\n",
       "  .colab-df-quickchart {\n",
       "      --bg-color: #E8F0FE;\n",
       "      --fill-color: #1967D2;\n",
       "      --hover-bg-color: #E2EBFA;\n",
       "      --hover-fill-color: #174EA6;\n",
       "      --disabled-fill-color: #AAA;\n",
       "      --disabled-bg-color: #DDD;\n",
       "  }\n",
       "\n",
       "  [theme=dark] .colab-df-quickchart {\n",
       "      --bg-color: #3B4455;\n",
       "      --fill-color: #D2E3FC;\n",
       "      --hover-bg-color: #434B5C;\n",
       "      --hover-fill-color: #FFFFFF;\n",
       "      --disabled-bg-color: #3B4455;\n",
       "      --disabled-fill-color: #666;\n",
       "  }\n",
       "\n",
       "  .colab-df-quickchart {\n",
       "    background-color: var(--bg-color);\n",
       "    border: none;\n",
       "    border-radius: 50%;\n",
       "    cursor: pointer;\n",
       "    display: none;\n",
       "    fill: var(--fill-color);\n",
       "    height: 32px;\n",
       "    padding: 0;\n",
       "    width: 32px;\n",
       "  }\n",
       "\n",
       "  .colab-df-quickchart:hover {\n",
       "    background-color: var(--hover-bg-color);\n",
       "    box-shadow: 0 1px 2px rgba(60, 64, 67, 0.3), 0 1px 3px 1px rgba(60, 64, 67, 0.15);\n",
       "    fill: var(--button-hover-fill-color);\n",
       "  }\n",
       "\n",
       "  .colab-df-quickchart-complete:disabled,\n",
       "  .colab-df-quickchart-complete:disabled:hover {\n",
       "    background-color: var(--disabled-bg-color);\n",
       "    fill: var(--disabled-fill-color);\n",
       "    box-shadow: none;\n",
       "  }\n",
       "\n",
       "  .colab-df-spinner {\n",
       "    border: 2px solid var(--fill-color);\n",
       "    border-color: transparent;\n",
       "    border-bottom-color: var(--fill-color);\n",
       "    animation:\n",
       "      spin 1s steps(1) infinite;\n",
       "  }\n",
       "\n",
       "  @keyframes spin {\n",
       "    0% {\n",
       "      border-color: transparent;\n",
       "      border-bottom-color: var(--fill-color);\n",
       "      border-left-color: var(--fill-color);\n",
       "    }\n",
       "    20% {\n",
       "      border-color: transparent;\n",
       "      border-left-color: var(--fill-color);\n",
       "      border-top-color: var(--fill-color);\n",
       "    }\n",
       "    30% {\n",
       "      border-color: transparent;\n",
       "      border-left-color: var(--fill-color);\n",
       "      border-top-color: var(--fill-color);\n",
       "      border-right-color: var(--fill-color);\n",
       "    }\n",
       "    40% {\n",
       "      border-color: transparent;\n",
       "      border-right-color: var(--fill-color);\n",
       "      border-top-color: var(--fill-color);\n",
       "    }\n",
       "    60% {\n",
       "      border-color: transparent;\n",
       "      border-right-color: var(--fill-color);\n",
       "    }\n",
       "    80% {\n",
       "      border-color: transparent;\n",
       "      border-right-color: var(--fill-color);\n",
       "      border-bottom-color: var(--fill-color);\n",
       "    }\n",
       "    90% {\n",
       "      border-color: transparent;\n",
       "      border-bottom-color: var(--fill-color);\n",
       "    }\n",
       "  }\n",
       "</style>\n",
       "\n",
       "  <script>\n",
       "    async function quickchart(key) {\n",
       "      const quickchartButtonEl =\n",
       "        document.querySelector('#' + key + ' button');\n",
       "      quickchartButtonEl.disabled = true;  // To prevent multiple clicks.\n",
       "      quickchartButtonEl.classList.add('colab-df-spinner');\n",
       "      try {\n",
       "        const charts = await google.colab.kernel.invokeFunction(\n",
       "            'suggestCharts', [key], {});\n",
       "      } catch (error) {\n",
       "        console.error('Error during call to suggestCharts:', error);\n",
       "      }\n",
       "      quickchartButtonEl.classList.remove('colab-df-spinner');\n",
       "      quickchartButtonEl.classList.add('colab-df-quickchart-complete');\n",
       "    }\n",
       "    (() => {\n",
       "      let quickchartButtonEl =\n",
       "        document.querySelector('#df-b8b47c5a-ae62-44df-a56d-98f88b15514e button');\n",
       "      quickchartButtonEl.style.display =\n",
       "        google.colab.kernel.accessAllowed ? 'block' : 'none';\n",
       "    })();\n",
       "  </script>\n",
       "</div>\n",
       "    </div>\n",
       "  </div>\n"
      ],
      "text/plain": [
       "                Name  Age Nationality  Overall Acceleration Aggression  \\\n",
       "6             De Gea   26       Spain       90       57         38       \n",
       "7          E. Hazard   26     Belgium       90       93         54       \n",
       "8           T. Kroos   27     Germany       90       60         60       \n",
       "9         G. Higuaín   29   Argentina       90       78         50       \n",
       "10      Sergio Ramos   31       Spain       90       75         84       \n",
       "...              ...  ...         ...      ...          ...        ...   \n",
       "17976      A. Kelsey   17     England       46       24         16       \n",
       "17977  B. Richardson   47     England       46       25         44       \n",
       "17978       J. Young   17    Scotland       46       66         26       \n",
       "17979   J. Lundstram   18     England       46       57         46       \n",
       "17980      L. Sackey   18       Ghana       46       48         52       \n",
       "\n",
       "      Agility Balance Ball control Composure  ... Short passing Shot power  \\\n",
       "6      60      43           42        64      ...        50         31       \n",
       "7      93      91           92        87      ...        86         79       \n",
       "8      71      69           89        85      ...        90         87       \n",
       "9      75      69           85        86      ...        75         88       \n",
       "10     79      60           84        80      ...        78         79       \n",
       "...       ...     ...          ...       ...  ...           ...        ...   \n",
       "17976  38      26           12        23      ...        19         19       \n",
       "17977  35      44           22        44      ...        12         13       \n",
       "17978  60      77           41        50      ...        42         42       \n",
       "17979  58      74           43        45      ...        49         43       \n",
       "17980  49      47           32        33      ...        31         21       \n",
       "\n",
       "      Sliding tackle Sprint speed Stamina Standing tackle Strength  Vision  \\\n",
       "6             13           58      40              21       64      68       \n",
       "7             22           87      79              27       65      86       \n",
       "8             69           52      77              82       74      88       \n",
       "9             18           80      72              22       85      70       \n",
       "10            91           77      84              89       81      63       \n",
       "...              ...          ...     ...             ...      ...     ...   \n",
       "17976         10           32      28              11       50      26       \n",
       "17977         13           25      32              12       47      17       \n",
       "17978         14           51      33              17       32      37       \n",
       "17979         47           58      49              48       46      51       \n",
       "17980         43           49      55              44       67      22       \n",
       "\n",
       "      Volleys Preferred Positions  \n",
       "6      13                     GK   \n",
       "7      79                     LW   \n",
       "8      82                 CDM CM   \n",
       "9      88                     ST   \n",
       "10     66                     CB   \n",
       "...       ...                 ...  \n",
       "17976   6                     GK   \n",
       "17977  12                     GK   \n",
       "17978  33                     ST   \n",
       "17979  25                     CM   \n",
       "17980  19                  ST CB   \n",
       "\n",
       "[17975 rows x 39 columns]"
      ]
     },
     "execution_count": 52,
     "metadata": {},
     "output_type": "execute_result"
    }
   ],
   "source": [
    "data.drop(data[data['Overall'] > 90].index, axis = 0)"
   ]
  },
  {
   "cell_type": "markdown",
   "metadata": {
    "collapsed": true,
    "id": "R3ycTNvie8Xu",
    "jupyter": {
     "outputs_hidden": true
    }
   },
   "source": [
    "## Good Job!"
   ]
  }
 ],
 "metadata": {
  "colab": {
   "provenance": []
  },
  "kernelspec": {
   "display_name": "Python 3 (ipykernel)",
   "language": "python",
   "name": "python3"
  },
  "language_info": {
   "codemirror_mode": {
    "name": "ipython",
    "version": 3
   },
   "file_extension": ".py",
   "mimetype": "text/x-python",
   "name": "python",
   "nbconvert_exporter": "python",
   "pygments_lexer": "ipython3",
   "version": "3.8.6"
  }
 },
 "nbformat": 4,
 "nbformat_minor": 4
}
